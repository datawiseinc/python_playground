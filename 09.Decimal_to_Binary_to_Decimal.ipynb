{
 "cells": [
  {
   "cell_type": "markdown",
   "metadata": {},
   "source": [
    "### Binary to Decimal and Back Converter \n",
    "- Develop a converter to convert a decimal number to binary or a binary number to its decimal equivalent."
   ]
  },
  {
   "cell_type": "markdown",
   "metadata": {},
   "source": [
    " "
   ]
  },
  {
   "cell_type": "code",
   "execution_count": 1,
   "metadata": {},
   "outputs": [],
   "source": [
    "def bin_to_decimal(num_binary=None):\n",
    "    \n",
    "    #accept a binary number\n",
    "    if num_binary == None:\n",
    "        num_binary = int(input('Enter a binary number: '))\n",
    "    \n",
    "    #initate the decimal value\n",
    "    value_decimal = 0\n",
    "    \n",
    "    #add the place values of each digit\n",
    "    for i in range (len(str(num_binary))):\n",
    "        \n",
    "        value_decimal += int(str(num_binary)[-1 -i]) * pow(2, i)\n",
    "    return value_decimal"
   ]
  },
  {
   "cell_type": "code",
   "execution_count": 2,
   "metadata": {},
   "outputs": [],
   "source": [
    "def decimal_to_binary(num_decimal = None):\n",
    "\n",
    "    #accept a decimal number\n",
    "    if num_decimal == None:\n",
    "        num_decimal = int(input('Enter a decimal number: '))\n",
    "\n",
    "    #initiate the binary digits list\n",
    "    binary_digits_reversed = []\n",
    "\n",
    "    #keep decimal dividing until the output is greater than 0\n",
    "    while (num_decimal // 2) > 0  :\n",
    "\n",
    "        binary_digits_reversed.append(str(num_decimal % 2) )\n",
    "\n",
    "        num_decimal = num_decimal // 2\n",
    "    \n",
    "    if num_decimal == 1 :\n",
    "        binary_digits_reversed.append('1')\n",
    "    \n",
    "    #reverse binary digits \n",
    "    binary_digits_reversed.reverse()\n",
    "    \n",
    "    #and join them\n",
    "    num_binary = int(''.join(binary_digits_reversed))\n",
    "    \n",
    "    return num_binary\n"
   ]
  },
  {
   "cell_type": "code",
   "execution_count": 3,
   "metadata": {},
   "outputs": [],
   "source": [
    "bin_to_decimal(1000)"
   ]
  },
  {
   "cell_type": "code",
   "execution_count": 4,
   "metadata": {},
   "outputs": [],
   "source": [
    "decimal_to_binary(8)"
   ]
  },
  {
   "cell_type": "code",
   "execution_count": null,
   "metadata": {},
   "outputs": [],
   "source": []
  },
  {
   "cell_type": "code",
   "execution_count": null,
   "metadata": {},
   "outputs": [],
   "source": []
  }
 ],
 "metadata": {
  "kernelspec": {
   "display_name": "Python 3",
   "language": "python",
   "name": "python3"
  },
  "language_info": {
   "codemirror_mode": {
    "name": "ipython",
    "version": 3
   },
   "file_extension": ".py",
   "mimetype": "text/x-python",
   "name": "python",
   "nbconvert_exporter": "python",
   "pygments_lexer": "ipython3",
   "version": "3.7.4"
  }
 },
 "nbformat": 4,
 "nbformat_minor": 2
}
