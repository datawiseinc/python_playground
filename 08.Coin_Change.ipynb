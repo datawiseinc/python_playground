{
 "cells": [
  {
   "cell_type": "markdown",
   "metadata": {},
   "source": [
    "### Change Return Program - The user enters a cost and then the amount of money given. The program will figure out the change and the number of quarters, dimes, nickels, pennies needed for the change."
   ]
  },
  {
   "cell_type": "code",
   "execution_count": 1,
   "metadata": {},
   "outputs": [],
   "source": [
    "#define the global variable\n",
    "coins = {'quarter':25, 'dime':10, 'nickel':5, 'penny':1}"
   ]
  },
  {
   "cell_type": "code",
   "execution_count": 2,
   "metadata": {},
   "outputs": [
    {
     "name": "stdout",
     "output_type": "stream",
     "text": [
      "Enter the price: $2.74\n",
      "Payment: $4\n",
      "Change: $1.26\n"
     ]
    }
   ],
   "source": [
    "#define the cost\n",
    "cost = float(input('Enter the price: $'))\n",
    "#accept the payment\n",
    "payment = float(input('Payment: $'))\n",
    "#print  the change\n",
    "change = round(payment - cost, 2)\n",
    "print ('Change: ${}'.format(change))"
   ]
  },
  {
   "cell_type": "code",
   "execution_count": 3,
   "metadata": {},
   "outputs": [],
   "source": [
    "#calculate the coin change total\n",
    "coin_change = int(str(change)[-2:])"
   ]
  },
  {
   "cell_type": "code",
   "execution_count": 4,
   "metadata": {},
   "outputs": [
    {
     "name": "stdout",
     "output_type": "stream",
     "text": [
      "1 quarters\n",
      "0 dimes\n",
      "0 nickels\n",
      "1 pennys\n"
     ]
    }
   ],
   "source": [
    "\n",
    "for key, value in coins.items():\n",
    "    change_type = key\n",
    "    change_count = coin_change // value\n",
    "    print ('{} {}s'.format(change_count, change_type))\n",
    "    coin_change = coin_change - change_count * value\n",
    "    "
   ]
  },
  {
   "cell_type": "code",
   "execution_count": null,
   "metadata": {},
   "outputs": [],
   "source": []
  }
 ],
 "metadata": {
  "kernelspec": {
   "display_name": "Python 3",
   "language": "python",
   "name": "python3"
  },
  "language_info": {
   "codemirror_mode": {
    "name": "ipython",
    "version": 3
   },
   "file_extension": ".py",
   "mimetype": "text/x-python",
   "name": "python",
   "nbconvert_exporter": "python",
   "pygments_lexer": "ipython3",
   "version": "3.7.4"
  }
 },
 "nbformat": 4,
 "nbformat_minor": 2
}
