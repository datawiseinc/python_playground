{
 "cells": [
  {
   "cell_type": "markdown",
   "metadata": {},
   "source": [
    "#FUNCTIONS"
   ]
  },
  {
   "cell_type": "code",
   "execution_count": 1,
   "metadata": {},
   "outputs": [],
   "source": [
    "#updates the history if the number is greater\n",
    "#than any previous high by droping the smallest of the two\n",
    "#largest numbers\n",
    "\n",
    "def history_check(number):\n",
    "    if number > history[1]:\n",
    "        history[0] = history[1]\n",
    "        history[1] = number"
   ]
  },
  {
   "cell_type": "code",
   "execution_count": 2,
   "metadata": {},
   "outputs": [],
   "source": [
    "#tests if a number is a prime number\n",
    "def is_prime(x):\n",
    "    for i in range(2,x):\n",
    "        if x % i == 0:\n",
    "            return False \n",
    "        \n",
    "    return True"
   ]
  },
  {
   "cell_type": "code",
   "execution_count": 3,
   "metadata": {},
   "outputs": [],
   "source": [
    "#update the prime_numbers list\n",
    "def update_prime_numbers():\n",
    "    #call the is_prime function to test each number between the last two maximums\n",
    "    for i in range(history[0], (history[1]+1)):\n",
    "        #if i is prime, add it to the prime numbers list\n",
    "        if is_prime(i):\n",
    "            all_prime_numbers.append(i)"
   ]
  },
  {
   "cell_type": "code",
   "execution_count": 4,
   "metadata": {},
   "outputs": [],
   "source": [
    "#find the prime factors of the number\n",
    "def prime_factor(number):\n",
    "    #initiate the prime factors\n",
    "    prime_factors = []\n",
    "    \n",
    "    #filter the prime numbers from the prime numbers history to \n",
    "    #pick the ones that are less than or equal to the number\n",
    "    prime_numbers = list(filter(lambda x: x <= number, all_prime_numbers ))\n",
    "    \n",
    "    #test for divisibility with the primes\n",
    "    for i in prime_numbers:\n",
    "        if number % i == 0:\n",
    "            #add the prime to the factors list if divisible\n",
    "            prime_factors.append(i)\n",
    "    \n",
    "    return prime_factors"
   ]
  },
  {
   "cell_type": "markdown",
   "metadata": {},
   "source": [
    "#Defaults"
   ]
  },
  {
   "cell_type": "code",
   "execution_count": 5,
   "metadata": {},
   "outputs": [],
   "source": [
    "#In order to avoid calculating for prime numbers each time,\n",
    "#keep a record of the last two largest numbers entered starting with default 1 and 2, \n",
    "history = [1,2]"
   ]
  },
  {
   "cell_type": "code",
   "execution_count": 6,
   "metadata": {},
   "outputs": [],
   "source": [
    "#store all the prime numbers up to the historic max in this list\n",
    "all_prime_numbers = [1,2]"
   ]
  },
  {
   "cell_type": "markdown",
   "metadata": {},
   "source": [
    "#Execute the program"
   ]
  },
  {
   "cell_type": "code",
   "execution_count": null,
   "metadata": {},
   "outputs": [],
   "source": [
    " \n",
    "#Execute the program\n",
    "while True:\n",
    "    try:\n",
    "        #1. Ask the user enter a number and show its prime factors\n",
    "        number = int(input('Enter a positive number to see its prime factors: '))\n",
    "    except:\n",
    "        print ('Oops!')\n",
    "        continue\n",
    "    \n",
    "    #Terminate the loop if user enters -1\n",
    "    if number is -1:\n",
    "        break\n",
    "    else:\n",
    "        \n",
    "        #2. Update the history if needed\n",
    "        history_check(number)\n",
    "\n",
    "        #3. update the prime_numbers if needed\n",
    "        update_prime_numbers()\n",
    "        all_prime_numbers = list(set(all_prime_numbers))\n",
    "\n",
    "        #4. Prime factor the number\n",
    "        number_factorized = prime_factor(number)\n",
    "\n",
    "        #5. Print the results\n",
    "        print ('Prime factors of {}  {}'.format(number,number_factorized))\n",
    "\n"
   ]
  },
  {
   "cell_type": "code",
   "execution_count": null,
   "metadata": {},
   "outputs": [],
   "source": []
  },
  {
   "cell_type": "markdown",
   "metadata": {},
   "source": [
    "# Notes"
   ]
  },
  {
   "cell_type": "markdown",
   "metadata": {},
   "source": [
    "#program flow\n",
    "'''\n",
    "#1. Ask the user enter a number and show its prime factors\n",
    "number = int(input('Enter a positive number to see its prime factors: '))\n",
    "    \n",
    "#2. Update the history if needed\n",
    "history_check(number)\n",
    "\n",
    "#3. update the prime_numbers if needed\n",
    "update_prime_numbers()\n",
    "all_prime_numbers = list(set(all_prime_numbers))\n",
    "\n",
    "#4. Prime factor the number\n",
    "prime_factor(number)\n",
    "\n",
    "#5. Print the results\n",
    "#print ('Prime factors of {}  {}'.format(number,number_factorized))\n",
    "\n",
    "'''"
   ]
  },
  {
   "cell_type": "markdown",
   "metadata": {},
   "source": [
    "#program flow \n",
    "\n",
    "'''\n",
    "Defaults: \n",
    "\n",
    "create a list of previous history[1,2] \n",
    "\n",
    "initiate a list of prime number storage all_prime_numbers = [1,2] \n",
    "\n",
    "Program: \n",
    "\n",
    "1-Accept a number \n",
    "\n",
    "2-check the history to see if the number is greater than previously entered numbers \n",
    "\n",
    "    a.if the number is greater than previously entered, \n",
    "        i) replace the max with the number, and \n",
    "        ii) drop the smallest number, history[0]\n",
    "        \n",
    "3-find the prime numbers from history[0] to history[1] \n",
    "\n",
    "    a.-iterate through the the numbers\n",
    "        i)-test if each number is a prime\n",
    "        ii)-add the prime numbers to the prime numbers list prime_numbers \n",
    "        \n",
    "4. set the prime numbers to unique values \n",
    "\n",
    "5. pick the primes that are less than or equal to the number and save in the prime_numbers list \n",
    "\n",
    "6. test if the number is divisible with the prime numbers that are equal to  or less than the number \n",
    "\n",
    "    a. if the number is divisible with a prime, store the prime in the factors list factors = [] \n",
    "    \n",
    "7. print the number_factorized list \n",
    "'''"
   ]
  },
  {
   "cell_type": "code",
   "execution_count": null,
   "metadata": {},
   "outputs": [],
   "source": []
  }
 ],
 "metadata": {
  "kernelspec": {
   "display_name": "Python 3",
   "language": "python",
   "name": "python3"
  },
  "language_info": {
   "codemirror_mode": {
    "name": "ipython",
    "version": 3
   },
   "file_extension": ".py",
   "mimetype": "text/x-python",
   "name": "python",
   "nbconvert_exporter": "python",
   "pygments_lexer": "ipython3",
   "version": "3.7.4"
  }
 },
 "nbformat": 4,
 "nbformat_minor": 2
}
