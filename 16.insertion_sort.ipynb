{
 "cells": [
  {
   "cell_type": "code",
   "execution_count": 1,
   "metadata": {},
   "outputs": [],
   "source": [
    "#import necessary libraries\n",
    "import numpy as np\n",
    "import time\n",
    "#generate a list\n",
    "np.random.seed(1)\n",
    "a_list = list(np.random.randint(1,10, 1000))\n",
    "#a_list = [9,7,3,6,2,10]\n",
    "#print('Insertion sorting this list: ', a_list)"
   ]
  },
  {
   "cell_type": "code",
   "execution_count": 2,
   "metadata": {},
   "outputs": [],
   "source": [
    "def insertion_sort(a_list):\n",
    "    a_list = a_list.copy()\n",
    "    for i in range (len(a_list)):\n",
    "\n",
    "        while a_list[i] < a_list[i-1] and i>=1:  #compare the first item in the list to the next\n",
    "            \n",
    "            a_list[i], a_list[i-1] = a_list[i-1], a_list[i]  #swap if the condition is met\n",
    "            i-=1  #move to the next item in the list\n",
    "            #end while loop when the no more element to compare\n",
    "            \n",
    "    return a_list"
   ]
  },
  {
   "cell_type": "code",
   "execution_count": 3,
   "metadata": {},
   "outputs": [],
   "source": [
    "x=time.time()\n",
    "insertion_sort(a_list)\n",
    "y=time.time()"
   ]
  },
  {
   "cell_type": "code",
   "execution_count": 4,
   "metadata": {},
   "outputs": [
    {
     "data": {
      "text/plain": [
       "(0.19135451316833496, 1000)"
      ]
     },
     "execution_count": 4,
     "metadata": {},
     "output_type": "execute_result"
    }
   ],
   "source": [
    "y-x,1000"
   ]
  },
  {
   "cell_type": "code",
   "execution_count": 5,
   "metadata": {},
   "outputs": [],
   "source": [
    "#generate a list\n",
    "np.random.seed(1)\n",
    "a_list = list(np.random.randint(1,10, 10000))"
   ]
  },
  {
   "cell_type": "code",
   "execution_count": 6,
   "metadata": {},
   "outputs": [],
   "source": [
    "x=time.time()\n",
    "insertion_sort(a_list)\n",
    "y=time.time()"
   ]
  },
  {
   "cell_type": "code",
   "execution_count": 7,
   "metadata": {},
   "outputs": [
    {
     "data": {
      "text/plain": [
       "(17.554349184036255, 10000)"
      ]
     },
     "execution_count": 7,
     "metadata": {},
     "output_type": "execute_result"
    }
   ],
   "source": [
    "y-x,10000"
   ]
  },
  {
   "cell_type": "markdown",
   "metadata": {},
   "source": [
    "### 10 fold increase in the length of the list causes 100 fold increase in runtime\n",
    "### As expected time complexity of insertion sort is O(n^2)"
   ]
  },
  {
   "cell_type": "code",
   "execution_count": null,
   "metadata": {},
   "outputs": [],
   "source": []
  }
 ],
 "metadata": {
  "kernelspec": {
   "display_name": "Python 3",
   "language": "python",
   "name": "python3"
  },
  "language_info": {
   "codemirror_mode": {
    "name": "ipython",
    "version": 3
   },
   "file_extension": ".py",
   "mimetype": "text/x-python",
   "name": "python",
   "nbconvert_exporter": "python",
   "pygments_lexer": "ipython3",
   "version": "3.7.6"
  }
 },
 "nbformat": 4,
 "nbformat_minor": 4
}
