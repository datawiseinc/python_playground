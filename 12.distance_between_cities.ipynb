{
 "cells": [
  {
   "cell_type": "code",
   "execution_count": 1,
   "metadata": {},
   "outputs": [],
   "source": [
    "#automates the multiple queries\n",
    "#for the distance between two cities\n",
    "\n",
    "#import libraries\n",
    "from selenium import webdriver\n",
    "from selenium.webdriver.common.keys import Keys\n",
    "from selenium.webdriver.support.ui import WebDriverWait\n",
    "from selenium.webdriver.support import expected_conditions as EC\n",
    "\n",
    "import pandas as pd\n",
    "import re"
   ]
  },
  {
   "cell_type": "code",
   "execution_count": 2,
   "metadata": {},
   "outputs": [],
   "source": [
    "#call the a browser driver\n",
    "driver = webdriver.Chrome(executable_path='C:/Users/galipbak/iCloudDrive/CODING/Resource_Archive/browser_drivers/chromedriver.exe')\n",
    "#get the bing map\n",
    "driver.get('https://www.bing.com/maps/directions')"
   ]
  },
  {
   "cell_type": "code",
   "execution_count": 3,
   "metadata": {},
   "outputs": [],
   "source": [
    "#set the globalwait time\n",
    "wait = WebDriverWait(driver, 10)\n",
    "driver.implicitly_wait(10)"
   ]
  },
  {
   "cell_type": "code",
   "execution_count": 4,
   "metadata": {},
   "outputs": [
    {
     "data": {
      "text/html": [
       "<div>\n",
       "<style scoped>\n",
       "    .dataframe tbody tr th:only-of-type {\n",
       "        vertical-align: middle;\n",
       "    }\n",
       "\n",
       "    .dataframe tbody tr th {\n",
       "        vertical-align: top;\n",
       "    }\n",
       "\n",
       "    .dataframe thead th {\n",
       "        text-align: right;\n",
       "    }\n",
       "</style>\n",
       "<table border=\"1\" class=\"dataframe\">\n",
       "  <thead>\n",
       "    <tr style=\"text-align: right;\">\n",
       "      <th></th>\n",
       "      <th>city1</th>\n",
       "      <th>city2</th>\n",
       "      <th>distance</th>\n",
       "    </tr>\n",
       "  </thead>\n",
       "  <tbody>\n",
       "    <tr>\n",
       "      <td>0</td>\n",
       "      <td>boston</td>\n",
       "      <td>houston</td>\n",
       "      <td>NaN</td>\n",
       "    </tr>\n",
       "    <tr>\n",
       "      <td>1</td>\n",
       "      <td>manhattan</td>\n",
       "      <td>dallas</td>\n",
       "      <td>NaN</td>\n",
       "    </tr>\n",
       "    <tr>\n",
       "      <td>2</td>\n",
       "      <td>seattle</td>\n",
       "      <td>miami</td>\n",
       "      <td>NaN</td>\n",
       "    </tr>\n",
       "  </tbody>\n",
       "</table>\n",
       "</div>"
      ],
      "text/plain": [
       "       city1    city2 distance\n",
       "0     boston  houston      NaN\n",
       "1  manhattan   dallas      NaN\n",
       "2    seattle    miami      NaN"
      ]
     },
     "execution_count": 4,
     "metadata": {},
     "output_type": "execute_result"
    }
   ],
   "source": [
    "#user inputs\n",
    "destination_table = pd.DataFrame(columns=['city1','city2','distance'])\n",
    "#cities\n",
    "#city1='boston'\n",
    "#city2='new york'\n",
    "\n",
    "#create a sample data frame\n",
    "destination_table['city1']=['boston', 'manhattan', 'seattle']\n",
    "destination_table['city2']=['houston', 'dallas', 'miami']\n",
    "destination_table"
   ]
  },
  {
   "cell_type": "code",
   "execution_count": 5,
   "metadata": {},
   "outputs": [],
   "source": [
    "#travel modes\n",
    "travel_mode= 1 #input('Please select a mode of transport: 1 , 2, or 3 .')"
   ]
  },
  {
   "cell_type": "code",
   "execution_count": 6,
   "metadata": {},
   "outputs": [],
   "source": [
    "#define a search function that streamline the search process\n",
    "#choose the travel mode\n",
    "def mode_transport(travel_mode=1):\n",
    "    while True:\n",
    "        if travel_mode==1 or travel_mode=='driving':\n",
    "            driver.find_element_by_xpath(\"//a[@class='dirBtnDrive dirBtnNormal']\").click()\n",
    "            break\n",
    "        elif travel_mode==2 or travel_mode=='public transport':\n",
    "            driver.find_element_by_xpath(\"//a[@class='dirBtnTransit dirBtnNormal']\").click()\n",
    "            break\n",
    "        elif travel_mode==3 or travel_mode=='walking':\n",
    "            driver.find_element_by_xpath(\"//a[@class='dirBtnWalk dirBtnNormal']\").click()\n",
    "            break\n",
    "        else:\n",
    "            print('Please select a correct mode of transport: 1 , 2, or 3 .')\n",
    "            print('acceptable options are: driving, public transport, and walking')"
   ]
  },
  {
   "cell_type": "code",
   "execution_count": 7,
   "metadata": {},
   "outputs": [],
   "source": [
    "# define one loop of distance calculation\n",
    "def distance_query_min(city1, city2):\n",
    "    #get the bing map\n",
    "    driver.implicitly_wait(10)\n",
    "    #driver.get('https://www.bing.com/maps/directions')\n",
    "   \n",
    "    #enter the cities to the search box\n",
    "    driver.find_element_by_css_selector('input[title=\"From\"]').clear()\n",
    "    driver.find_element_by_css_selector('input[title=\"From\"]').send_keys(city1)\n",
    "    driver.find_element_by_css_selector('input[title=\"To\"]').clear()\n",
    "    driver.find_element_by_css_selector('input[title=\"To\"]').send_keys(city2)\n",
    "    driver.find_element_by_xpath('//a[@class=\"dirBtnGo commonButton\"]').click()\n",
    "\n",
    "    #save the distance elements to a list\n",
    "    distance = driver.find_elements_by_xpath(\"//div[@class='distanceLine']\")\n",
    "\n",
    "    #take the milage from each element in the list\n",
    "    distance_list = []\n",
    "    for i in distance:\n",
    "        distance_list.append(int(i.text.split()[0]))\n",
    "\n",
    "    #return the minum distance\n",
    "    return min(distance_list)"
   ]
  },
  {
   "cell_type": "code",
   "execution_count": 8,
   "metadata": {},
   "outputs": [],
   "source": [
    "#choose the travel mode\n",
    "mode_transport(travel_mode)"
   ]
  },
  {
   "cell_type": "code",
   "execution_count": 9,
   "metadata": {},
   "outputs": [],
   "source": [
    "#Call the functions for each pair of cities\n",
    "for i in destination_table.index:\n",
    "    city1 = destination_table.iloc[i]['city1']\n",
    "    city2 = destination_table.iloc[i]['city2']\n",
    "    destination_table.iloc[i]['distance'] = distance_query_min(city1,city2)"
   ]
  },
  {
   "cell_type": "code",
   "execution_count": 10,
   "metadata": {},
   "outputs": [
    {
     "data": {
      "text/html": [
       "<div>\n",
       "<style scoped>\n",
       "    .dataframe tbody tr th:only-of-type {\n",
       "        vertical-align: middle;\n",
       "    }\n",
       "\n",
       "    .dataframe tbody tr th {\n",
       "        vertical-align: top;\n",
       "    }\n",
       "\n",
       "    .dataframe thead th {\n",
       "        text-align: right;\n",
       "    }\n",
       "</style>\n",
       "<table border=\"1\" class=\"dataframe\">\n",
       "  <thead>\n",
       "    <tr style=\"text-align: right;\">\n",
       "      <th></th>\n",
       "      <th>city1</th>\n",
       "      <th>city2</th>\n",
       "      <th>distance</th>\n",
       "    </tr>\n",
       "  </thead>\n",
       "  <tbody>\n",
       "    <tr>\n",
       "      <td>0</td>\n",
       "      <td>boston</td>\n",
       "      <td>houston</td>\n",
       "      <td>1843</td>\n",
       "    </tr>\n",
       "    <tr>\n",
       "      <td>1</td>\n",
       "      <td>manhattan</td>\n",
       "      <td>dallas</td>\n",
       "      <td>1552</td>\n",
       "    </tr>\n",
       "    <tr>\n",
       "      <td>2</td>\n",
       "      <td>seattle</td>\n",
       "      <td>miami</td>\n",
       "      <td>3295</td>\n",
       "    </tr>\n",
       "  </tbody>\n",
       "</table>\n",
       "</div>"
      ],
      "text/plain": [
       "       city1    city2 distance\n",
       "0     boston  houston     1843\n",
       "1  manhattan   dallas     1552\n",
       "2    seattle    miami     3295"
      ]
     },
     "execution_count": 10,
     "metadata": {},
     "output_type": "execute_result"
    }
   ],
   "source": [
    "destination_table"
   ]
  }
 ],
 "metadata": {
  "kernelspec": {
   "display_name": "Python 3",
   "language": "python",
   "name": "python3"
  },
  "language_info": {
   "codemirror_mode": {
    "name": "ipython",
    "version": 3
   },
   "file_extension": ".py",
   "mimetype": "text/x-python",
   "name": "python",
   "nbconvert_exporter": "python",
   "pygments_lexer": "ipython3",
   "version": "3.7.4"
  }
 },
 "nbformat": 4,
 "nbformat_minor": 4
}
