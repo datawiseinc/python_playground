{
 "nbformat": 4,
 "nbformat_minor": 2,
 "metadata": {
  "language_info": {
   "name": "python",
   "codemirror_mode": {
    "name": "ipython",
    "version": 3
   },
   "version": "3.7.4-final"
  },
  "orig_nbformat": 2,
  "file_extension": ".py",
  "mimetype": "text/x-python",
  "name": "python",
  "npconvert_exporter": "python",
  "pygments_lexer": "ipython3",
  "version": 3,
  "kernelspec": {
   "name": "python37464bitbasecondaf7b42bf6d0454650b41abaaea1d18348",
   "display_name": "Python 3.7.4 64-bit ('base': conda)"
  }
 },
 "cells": [
  {
   "cell_type": "code",
   "execution_count": 1,
   "metadata": {},
   "outputs": [],
   "source": [
    "import pandas as pd\n",
    "import pdb"
   ]
  },
  {
   "cell_type": "code",
   "execution_count": 2,
   "metadata": {},
   "outputs": [],
   "source": [
    "def mortgage_calculator():\n",
    "    \n",
    "    loan, term, interest_rate, num_payments, apr = gather_info()\n",
    "\n",
    "    #calculates total debt\n",
    "    debt = loan + loan * apr * term\n",
    "\n",
    "    #calculate the variables for the amortization formula\n",
    "    n = 12  #number of compunding per year\n",
    "    p= num_payments / term\n",
    "   \n",
    "    #amortization formula (periodic rate)\n",
    "    rate = ((1+(apr/n))**(n/p)) -1\n",
    "\n",
    "    #calculates the monthly payments\n",
    "    periodic_payment = loan * (rate*(1+rate)**num_payments) / (((1+rate)**num_payments) -1)\n",
    "\n",
    "    balance = loan\n",
    "    #create an amortization chart\n",
    "    amortization_table = pd.DataFrame(columns= ['Payment_Count', 'Payment_Made', 'Principal Paid', 'interest_rate','Interest_Paid' , 'Total_Paid','Balance' ])\n",
    "    \n",
    "    #pdb.set_trace()\n",
    "\n",
    "    amortization_table.loc[0] = [0,periodic_payment,0,rate,0,0,balance]  #first row of the table is the         starting balance\n",
    "    \n",
    "    for i in range(1, num_payments+1):\n",
    "        #make a payment\n",
    "        balance, principal_paid, interest_paid = make_payment(balance, periodic_payment, rate)\n",
    "        amortization_table.loc[i] = [i,periodic_payment,principal_paid,rate,interest_paid,i*periodic_payment,balance]\n",
    "    \n",
    "    amortization_table = amortization_table.round(decimals=2)\n",
    "    return amortization_table"
   ]
  },
  {
   "cell_type": "code",
   "execution_count": 3,
   "metadata": {},
   "outputs": [],
   "source": [
    "# gathers mortgage info: loan, term, apr, payment frequency\n",
    "def gather_info():\n",
    "\n",
    "    try:\n",
    "        loan=int(input('Loan Amount : '))\n",
    "        term=int(input('Loan Term in Years : '))\n",
    "        apr=float(input('Annual interest percentage : ')) * 0.01\n",
    "        payment_frequency=int(input('Payment frequency (Enter 1 for monthly, 2 for Annually, 3 for Daily) :'))\n",
    "\n",
    "        if payment_frequency == 1:\n",
    "            num_payments = 12 * term\n",
    "            interest_rate = apr/ 12\n",
    "\n",
    "        elif payment_frequency == 2:\n",
    "            num_payments = term\n",
    "            interest_rate = apr\n",
    "\n",
    "        elif payment_frequency == 3:\n",
    "            num_payments = 365 * term\n",
    "            interest_rate = apr / 365\n",
    "        else:\n",
    "            print('You made an invalid entry. 1 for monthly, 2 for yearly, 3 for daily payments')    \n",
    "    \n",
    "        return loan, term, interest_rate, num_payments, apr  #returns loan, term, apr, num_payments\n",
    "\n",
    "    except:\n",
    "        gather_info()\n"
   ]
  },
  {
   "cell_type": "code",
   "execution_count": 4,
   "metadata": {},
   "outputs": [],
   "source": [
    "def make_payment(balance, periodic_payment, rate ):\n",
    "\n",
    "    #calculate the interest paid\n",
    "    interest_paid = balance * rate\n",
    "    principal_paid = periodic_payment - interest_paid\n",
    "    balance = balance - principal_paid\n",
    "\n",
    "    return balance, principal_paid, interest_paid"
   ]
  },
  {
   "cell_type": "code",
   "execution_count": 6,
   "metadata": {},
   "outputs": [
    {
     "data": {
      "text/html": "<div>\n<style scoped>\n    .dataframe tbody tr th:only-of-type {\n        vertical-align: middle;\n    }\n\n    .dataframe tbody tr th {\n        vertical-align: top;\n    }\n\n    .dataframe thead th {\n        text-align: right;\n    }\n</style>\n<table border=\"1\" class=\"dataframe\">\n  <thead>\n    <tr style=\"text-align: right;\">\n      <th></th>\n      <th>Payment_Count</th>\n      <th>Payment_Made</th>\n      <th>Principal Paid</th>\n      <th>interest_rate</th>\n      <th>Interest_Paid</th>\n      <th>Total_Paid</th>\n      <th>Balance</th>\n    </tr>\n  </thead>\n  <tbody>\n    <tr>\n      <td>0</td>\n      <td>0.0</td>\n      <td>179.69</td>\n      <td>0.00</td>\n      <td>0.0</td>\n      <td>0.00</td>\n      <td>0.00</td>\n      <td>10000.00</td>\n    </tr>\n    <tr>\n      <td>1</td>\n      <td>1.0</td>\n      <td>179.69</td>\n      <td>154.69</td>\n      <td>0.0</td>\n      <td>25.00</td>\n      <td>179.69</td>\n      <td>9845.31</td>\n    </tr>\n    <tr>\n      <td>2</td>\n      <td>2.0</td>\n      <td>179.69</td>\n      <td>155.07</td>\n      <td>0.0</td>\n      <td>24.61</td>\n      <td>359.37</td>\n      <td>9690.24</td>\n    </tr>\n    <tr>\n      <td>3</td>\n      <td>3.0</td>\n      <td>179.69</td>\n      <td>155.46</td>\n      <td>0.0</td>\n      <td>24.23</td>\n      <td>539.06</td>\n      <td>9534.78</td>\n    </tr>\n    <tr>\n      <td>4</td>\n      <td>4.0</td>\n      <td>179.69</td>\n      <td>155.85</td>\n      <td>0.0</td>\n      <td>23.84</td>\n      <td>718.75</td>\n      <td>9378.93</td>\n    </tr>\n    <tr>\n      <td>...</td>\n      <td>...</td>\n      <td>...</td>\n      <td>...</td>\n      <td>...</td>\n      <td>...</td>\n      <td>...</td>\n      <td>...</td>\n    </tr>\n    <tr>\n      <td>56</td>\n      <td>56.0</td>\n      <td>179.69</td>\n      <td>177.46</td>\n      <td>0.0</td>\n      <td>2.23</td>\n      <td>10062.47</td>\n      <td>714.28</td>\n    </tr>\n    <tr>\n      <td>57</td>\n      <td>57.0</td>\n      <td>179.69</td>\n      <td>177.90</td>\n      <td>0.0</td>\n      <td>1.79</td>\n      <td>10242.15</td>\n      <td>536.38</td>\n    </tr>\n    <tr>\n      <td>58</td>\n      <td>58.0</td>\n      <td>179.69</td>\n      <td>178.35</td>\n      <td>0.0</td>\n      <td>1.34</td>\n      <td>10421.84</td>\n      <td>358.03</td>\n    </tr>\n    <tr>\n      <td>59</td>\n      <td>59.0</td>\n      <td>179.69</td>\n      <td>178.79</td>\n      <td>0.0</td>\n      <td>0.90</td>\n      <td>10601.53</td>\n      <td>179.24</td>\n    </tr>\n    <tr>\n      <td>60</td>\n      <td>60.0</td>\n      <td>179.69</td>\n      <td>179.24</td>\n      <td>0.0</td>\n      <td>0.45</td>\n      <td>10781.21</td>\n      <td>0.00</td>\n    </tr>\n  </tbody>\n</table>\n<p>61 rows × 7 columns</p>\n</div>",
      "text/plain": "    Payment_Count  Payment_Made  Principal Paid  interest_rate  Interest_Paid  \\\n0             0.0        179.69            0.00            0.0           0.00   \n1             1.0        179.69          154.69            0.0          25.00   \n2             2.0        179.69          155.07            0.0          24.61   \n3             3.0        179.69          155.46            0.0          24.23   \n4             4.0        179.69          155.85            0.0          23.84   \n..            ...           ...             ...            ...            ...   \n56           56.0        179.69          177.46            0.0           2.23   \n57           57.0        179.69          177.90            0.0           1.79   \n58           58.0        179.69          178.35            0.0           1.34   \n59           59.0        179.69          178.79            0.0           0.90   \n60           60.0        179.69          179.24            0.0           0.45   \n\n    Total_Paid   Balance  \n0         0.00  10000.00  \n1       179.69   9845.31  \n2       359.37   9690.24  \n3       539.06   9534.78  \n4       718.75   9378.93  \n..         ...       ...  \n56    10062.47    714.28  \n57    10242.15    536.38  \n58    10421.84    358.03  \n59    10601.53    179.24  \n60    10781.21      0.00  \n\n[61 rows x 7 columns]"
     },
     "execution_count": 6,
     "metadata": {},
     "output_type": "execute_result"
    }
   ],
   "source": [
    "mortgage_calculator()"
   ]
  },
  {
   "cell_type": "code",
   "execution_count": null,
   "metadata": {},
   "outputs": [],
   "source": []
  }
 ]
}