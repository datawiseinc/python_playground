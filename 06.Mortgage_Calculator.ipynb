{
 "cells": [
  {
   "cell_type": "code",
   "execution_count": 1,
   "metadata": {},
   "outputs": [],
   "source": [
    "#Calculate the monthly payments of a fixed term mortgage over \n",
    "#given Nth terms at a given interest rate. "
   ]
  },
  {
   "cell_type": "code",
   "execution_count": 2,
   "metadata": {},
   "outputs": [],
   "source": [
    "#import relevant libraries\n",
    "import pandas as pd\n",
    "import pdb"
   ]
  },
  {
   "cell_type": "code",
   "execution_count": 3,
   "metadata": {},
   "outputs": [],
   "source": [
    "#gather user input: loan amount, interest rate, loan term, and payment intervals\n",
    "def gather_info():\n",
    "    while True:\n",
    "        #gather the loan amount\n",
    "        loan_amount = float(input('Enter the loan amount (-1 to quit): '))\n",
    "                        \n",
    "        if loan_amount== -1:\n",
    "            print ('Exciting mortgage calculator! ')\n",
    "            break\n",
    "\n",
    "        #gather the compounding interval\n",
    "        interest_interval = int(input('Which interest interval do you prefer: Press 1 for Daily, 2 for monthly, 3 for yearly: '))\n",
    "        interval = ['Days', 'Months', 'Years']\n",
    "        #gather the loan term\n",
    "        loan_term = int (input('Enter the loan term: '))\n",
    "\n",
    "        #gather the interest rate\n",
    "        interest_rate = float(input('Enter the interest rate % '))\n",
    "        \n",
    "        print ('You requested a loan amont of ${:2} and a loan term of {} {} with an interest rate of {}%'.format(loan_amount,interest_interval, interval[interest_interval-1], interest_rate))\n",
    "        \n",
    "        \n",
    "        #Adjust the loan term based on preferred interest interval (annual, monthly, daily)\n",
    "\n",
    "        if interest_interval == 1:\n",
    "            loan_term = 365 * loan_term\n",
    "            interest_rate = 0.01 * interest_rate / 365\n",
    "            return (loan_amount, loan_term, interest_rate)\n",
    "               \n",
    "        elif interest_interval == 2:\n",
    "            loan_term = 12 * loan_term\n",
    "            interest_rate = 0.01 * interest_rate / 12            \n",
    "            return (loan_amount, loan_term, interest_rate)\n",
    "               \n",
    "        elif interest_interval == 3:\n",
    "            loan_term = loan_term\n",
    "            interest_rate = 0.01 * interest_rate\n",
    "            return (loan_amount, loan_term, interest_rate)\n",
    "               \n",
    "        else:\n",
    "            print('You made an invalid entry.')\n",
    "            break"
   ]
  },
  {
   "cell_type": "code",
   "execution_count": 4,
   "metadata": {},
   "outputs": [],
   "source": [
    "#calculates the total debt with  interest after a certain period of time\n",
    "def debt_projection(loan_amount, loan_term, interest_rate):\n",
    "    \n",
    "    #calculate the total interest\n",
    "    total_interest = loan_amount * interest_rate * loan_term\n",
    "    \n",
    "    #calculate the debt\n",
    "    debt = loan_amount + total_interest\n",
    "    \n",
    "    #calculate the payment\n",
    "    periodic_payment = round(debt / loan_term, 2)\n",
    "    \n",
    "    return  debt, periodic_payment, total_interest"
   ]
  },
  {
   "cell_type": "code",
   "execution_count": 5,
   "metadata": {},
   "outputs": [],
   "source": [
    "#make a payment update the balance\n",
    "def make_payment(debt,total_interest, periodic_payment):\n",
    "    \n",
    "    print(debt, 'debt enter')\n",
    "    principal = debt - total_interest\n",
    "    \n",
    "    if debt!=0:\n",
    "        principal_to_debt_ratio = principal/debt\n",
    "    else:\n",
    "        principal_to_debt_ratio = 0\n",
    "    \n",
    "    #split the payment between interest and the principal    \n",
    "    principal_payment = principal_to_debt_ratio * periodic_payment\n",
    "    interest_payment = periodic_payment - principal_payment\n",
    "    \n",
    "        \n",
    "    #interest left\n",
    "    total_interest = total_interest - interest_payment\n",
    "    \n",
    "    #principal left\n",
    "    principal = principal - principal_payment\n",
    "    \n",
    "    #debt_left\n",
    "    debt = principal + total_interest\n",
    "    \n",
    "    print(debt, 'debt exit')\n",
    "    \n",
    "    return (debt, total_interest, principal, interest_payment, principal_payment)"
   ]
  },
  {
   "cell_type": "code",
   "execution_count": 6,
   "metadata": {},
   "outputs": [],
   "source": [
    "def mortgage_calculator():\n",
    "    \n",
    "    month = 0  #loan begins \n",
    "    \n",
    "    loan_amount, loan_term, interest_rate = gather_info()   #gather user input\n",
    "    \n",
    "    #assign variables based on user input during month 0\n",
    "    debt, periodic_payment, total_interest = debt_projection(loan_amount, loan_term, interest_rate)\n",
    "    \n",
    "    #create a summary table template\n",
    "    mortgage_summary = pd.DataFrame(columns=['month', 'pay_off_balance', 'debt_balance','interest_balance', 'installments','payment_to_interest', 'payment_to_capital'])\n",
    "    \n",
    "    #in case we want to call the original loan amount\n",
    "    principal = loan_amount\n",
    "    \n",
    "    #loan status at the beginning  \n",
    "    mortgage_summary.loc[0]=[month,principal,debt,total_interest,periodic_payment,0,0]\n",
    "\n",
    "    \n",
    "    #summary table\n",
    "    for month in range(1, loan_term+1):\n",
    "\n",
    "        #make a payment\n",
    "        debt, total_interest, principal, interest_payment, principal_payment = make_payment(debt,total_interest, periodic_payment)\n",
    "        #pdb.set_trace()\n",
    "        #loan status at the beginning  \n",
    "        mortgage_summary.loc[month]=[month,principal,debt,total_interest,periodic_payment,interest_payment, principal_payment]\n",
    "\n",
    "    print(mortgage_summary)"
   ]
  },
  {
   "cell_type": "code",
   "execution_count": null,
   "metadata": {},
   "outputs": [],
   "source": [
    "mortgage_calculator()"
   ]
  },
  {
   "cell_type": "code",
   "execution_count": null,
   "metadata": {},
   "outputs": [],
   "source": []
  }
 ],
 "metadata": {
  "kernelspec": {
   "display_name": "Python 3",
   "language": "python",
   "name": "python3"
  },
  "language_info": {
   "codemirror_mode": {
    "name": "ipython",
    "version": 3
   },
   "file_extension": ".py",
   "mimetype": "text/x-python",
   "name": "python",
   "nbconvert_exporter": "python",
   "pygments_lexer": "ipython3",
   "version": "3.7.4"
  }
 },
 "nbformat": 4,
 "nbformat_minor": 4
}
