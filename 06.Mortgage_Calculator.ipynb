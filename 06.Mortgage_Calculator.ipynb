{
 "cells": [
  {
   "cell_type": "code",
   "execution_count": 1,
   "metadata": {},
   "outputs": [],
   "source": [
    "#Calculate the monthly payments of a fixed term mortgage over \n",
    "#given Nth terms at a given interest rate. Also figure out \n",
    "#how long it will take the user to pay back the loan. \n",
    "#For added complexity, add an option for users to select \n",
    "#the compounding interval (Monthly, Weekly, Daily, Continually).\n",
    "#The actual mortgage calculation could be simpler. This wild west version:) customer always loses."
   ]
  },
  {
   "cell_type": "code",
   "execution_count": 2,
   "metadata": {},
   "outputs": [],
   "source": [
    "#calculates the total debt with compounding interest after a certain period of time\n",
    "def debt_projection(debt, time):\n",
    "    i = 1\n",
    "    total_interest = 0\n",
    "    while i <= time:\n",
    "        interest = debt * interest_rate\n",
    "        total_interest = interest + total_interest\n",
    "        debt = debt + interest\n",
    "        i+=1\n",
    "    interest_to_debt_ratio = total_interest / debt\n",
    "    \n",
    "    return (debt,total_interest,interest_to_debt_ratio)"
   ]
  },
  {
   "cell_type": "code",
   "execution_count": 3,
   "metadata": {},
   "outputs": [],
   "source": [
    "#determine the percentage of the payment that will go to the interest\n",
    "def payment_distribution():\n",
    "    interest_payment = interest_to_debt_ratio * payment\n",
    "    principal_payment = payment - interest_payment\n",
    "    return (interest_payment, principal_payment )"
   ]
  },
  {
   "cell_type": "code",
   "execution_count": 4,
   "metadata": {},
   "outputs": [],
   "source": [
    "#make a payment update the balance\n",
    "def make_payment():\n",
    "    #distribute the payment between interest and principal\n",
    "    principal_left = (debt - total_interest) - principal_payment\n",
    "    interest_left = total_interest - interest_payment\n",
    "    \n",
    "    #debt left\n",
    "    debt_left = debt - payment\n",
    "    \n",
    "    return (debt_left, interest_left, principal_left)"
   ]
  },
  {
   "cell_type": "code",
   "execution_count": 5,
   "metadata": {},
   "outputs": [],
   "source": [
    "def gather_info():\n",
    "    while True:\n",
    "        #gather the loan amount\n",
    "        loan_amount = int(input('Enter the loan amount: '))\n",
    "\n",
    "        #gather the loan term\n",
    "        loan_term = int (input('Enter the loan term in years: '))\n",
    "\n",
    "        #gather the compounding interval\n",
    "        interest_interval = int(input('Which interest interval do you prefer: Press 1 for Daily, 2 for monthly, 3 for yearly: '))\n",
    "        \n",
    "        #gather the interest rate\n",
    "        interest_rate = int(input('Enter the interest rate % '))\n",
    "        \n",
    "        #Adjust the loan term based on preferred interest interval\n",
    "\n",
    "        if interest_interval == 1:\n",
    "            loan_term = 365 * loan_term\n",
    "            interest_rate = 0.01 * interest_rate / 365\n",
    "            print ('The loan term you selected is {} days'.format(loan_term))\n",
    "            return (loan_amount, loan_term, interest_rate)\n",
    "        elif interest_interval == 2:\n",
    "            loan_term = 12 * loan_term\n",
    "            interest_rate = 0.01 * interest_rate / 12\n",
    "            print ('The loan term you selected is {} months'.format(loan_term))\n",
    "            return (loan_amount, loan_term, interest_rate)\n",
    "        elif interest_interval == 3:\n",
    "            loan_term = loan_term\n",
    "            interest_rate = 0.01 * interest_rate\n",
    "            print ('The loan term you selected is {} years'.format(loan_term))\n",
    "            return (loan_amount, loan_term, interest_rate)\n",
    "        else:\n",
    "            print('You made an invalid entry.')\n",
    "            break"
   ]
  },
  {
   "cell_type": "markdown",
   "metadata": {},
   "source": [
    "Program Flow: \n",
    "\n",
    "1. gather the term, loan amount and interest rate\n",
    "2. initiate the loan and the principal\n",
    "3. calculate the total debt\n",
    "4. calculate the total interest and interest:rest ratio\n",
    "5. determine the monthly payments\n",
    "6. determine the payment ratio between interest and the principal\n",
    "7. make a payment toward the principal and the principal and calculate the new total debt\n",
    "8. repeat steps 6,7\n"
   ]
  },
  {
   "cell_type": "code",
   "execution_count": 6,
   "metadata": {},
   "outputs": [],
   "source": [
    "#1.gather the term, loan amount and interest rate\n",
    "#loan_amount, loan_term, interest_rate = gather_info()"
   ]
  },
  {
   "cell_type": "code",
   "execution_count": 7,
   "metadata": {},
   "outputs": [],
   "source": [
    "#2. initiate the loan and the principal\n",
    "#debt = loan_amount\n",
    "#principal = loan_amount"
   ]
  },
  {
   "cell_type": "code",
   "execution_count": 8,
   "metadata": {},
   "outputs": [],
   "source": [
    "#3. calculate the total debt given the initial variables\n",
    "#4.and unpack the projected debt to interest and ratio to principal\n",
    "#debt, total_interest, interest_to_debt_ratio = debt_projection(debt,loan_term)"
   ]
  },
  {
   "cell_type": "code",
   "execution_count": 9,
   "metadata": {},
   "outputs": [],
   "source": [
    "#5. determine the monthly payments\n",
    "#payment = debt / loan_term"
   ]
  },
  {
   "cell_type": "code",
   "execution_count": null,
   "metadata": {},
   "outputs": [],
   "source": [
    "while True:\n",
    "    #1.gather the term, loan amount and interest rate\n",
    "    loan_amount, loan_term, interest_rate = gather_info()\n",
    "    \n",
    "    #if loan amount is 0 quit program\n",
    "    if loan_amount <= 0:\n",
    "        break\n",
    "        \n",
    "    #2. initiate the loan and the principal\n",
    "    debt = loan_amount\n",
    "    principal = loan_amount\n",
    "\n",
    "    #3. calculate the total debt given the initial variables\n",
    "    #4.and unpack the projected debt to interest and ratio to principal\n",
    "    debt, total_interest, interest_to_debt_ratio = debt_projection(debt,loan_term)\n",
    "    \n",
    "    #5. determine the monthly payments\n",
    "    payment = debt / loan_term\n",
    "\n",
    "    print ('You will owe ${:.2f} for borrowing ${:.2f} and your monthly payments will be {:.2f}'.format(debt, loan_amount, payment))\n",
    "    \n",
    "    #make the periodic payments for the duration of the loan\n",
    "    for i in range (1, loan_term + 1):\n",
    "\n",
    "        #6. Distribute the payment\n",
    "        interest_payment, principal_payment = payment_distribution()\n",
    "\n",
    "        #7. Make a payment\n",
    "        debt, total_interest, principal = make_payment()\n",
    "\n",
    "        #print the balance\n",
    "        print ('Total balance after payment {} of ${:.2f}: ${:.2f}  Interest balance: ${:.2f}   Principal balance: ${:.2f} '.format(i,payment, debt, total_interest, principal))\n",
    "    "
   ]
  }
 ],
 "metadata": {
  "kernelspec": {
   "display_name": "Python 3",
   "language": "python",
   "name": "python3"
  },
  "language_info": {
   "codemirror_mode": {
    "name": "ipython",
    "version": 3
   },
   "file_extension": ".py",
   "mimetype": "text/x-python",
   "name": "python",
   "nbconvert_exporter": "python",
   "pygments_lexer": "ipython3",
   "version": "3.7.4"
  }
 },
 "nbformat": 4,
 "nbformat_minor": 2
}
