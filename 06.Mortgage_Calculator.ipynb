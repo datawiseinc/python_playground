{
 "cells": [
  {
   "cell_type": "code",
   "execution_count": 1,
   "metadata": {},
   "outputs": [],
   "source": [
    "#Calculate the monthly payments of a fixed term mortgage over \n",
    "#given Nth terms at a given interest rate. Also figure out \n",
    "#how long it will take the user to pay back the loan. \n",
    "#For added complexity, add an option for users to select \n",
    "#the compounding interval (Monthly, Weekly, Daily, Continually)."
   ]
  },
  {
   "cell_type": "code",
   "execution_count": 2,
   "metadata": {},
   "outputs": [],
   "source": [
    "#gather user input\n",
    "def gather_info():\n",
    "    while True:\n",
    "        #gather the loan amount\n",
    "        loan_amount = float(input('Enter the loan amount: '))\n",
    "\n",
    "\n",
    "        #gather the loan term\n",
    "        loan_term = int (input('Enter the loan term in years: '))\n",
    "\n",
    "        #gather the compounding interval\n",
    "        interest_interval = int(input('Which interest interval do you prefer: Press 1 for Daily, 2 for monthly, 3 for yearly: '))\n",
    "\n",
    "        #gather the interest rate\n",
    "        interest_rate = float(input('Enter the interest rate % '))\n",
    "        \n",
    "        #Adjust the loan term based on preferred interest interval\n",
    "\n",
    "        if interest_interval == 1:\n",
    "            loan_term = 365 * loan_term\n",
    "            interest_rate = 0.01 * interest_rate / 365\n",
    "            print ('The loan term you selected is {} days'.format(loan_term))\n",
    "            return (loan_amount, loan_term, interest_rate)\n",
    "        elif interest_interval == 2:\n",
    "            loan_term = 12 * loan_term\n",
    "            interest_rate = 0.01 * interest_rate / 12\n",
    "            print ('The loan term you selected is {} months'.format(loan_term))\n",
    "            return (loan_amount, loan_term, interest_rate)\n",
    "        elif interest_interval == 3:\n",
    "            loan_term = loan_term\n",
    "            interest_rate = 0.01 * interest_rate\n",
    "            print ('The loan term you selected is {} years'.format(loan_term))\n",
    "            return (loan_amount, loan_term, interest_rate)\n",
    "        else:\n",
    "            print('You made an invalid entry.')\n",
    "            break"
   ]
  },
  {
   "cell_type": "code",
   "execution_count": 3,
   "metadata": {},
   "outputs": [],
   "source": [
    "#calculates the total debt with  interest after a certain period of time\n",
    "def debt_projection(loan_amount, interest_rate, loan_term):\n",
    "    \n",
    "    #calculate the total interest\n",
    "    total_interest = loan_amount * interest_rate * loan_term\n",
    "    \n",
    "    #calculate the debt\n",
    "    debt = loan_amount + total_interest\n",
    "    \n",
    "    #calculate the payment\n",
    "    periodic_payment = debt / loan_term\n",
    "    \n",
    "    print('Total debt: {}'.format(debt))\n",
    "    \n",
    "    return (debt,periodic_payment,total_interest)"
   ]
  },
  {
   "cell_type": "code",
   "execution_count": 4,
   "metadata": {},
   "outputs": [],
   "source": [
    "#determine the percentage of the payment that will go to the interest\n",
    "def payment_distribution(debt, principal, total_interest):\n",
    "    #calculate the total_interest to debt ratio\n",
    "    if debt!=0:\n",
    "        interest_to_debt_ratio = total_interest/debt\n",
    "    else:\n",
    "        interest_to_debt_ratio = 0.0001\n",
    "    \n",
    "    #split the payment between interest and the principal    \n",
    "    interest_payment = interest_to_debt_ratio * periodic_payment\n",
    "    principal_payment = periodic_payment - interest_payment\n",
    "    \n",
    "    \n",
    "    return (interest_payment, principal_payment )"
   ]
  },
  {
   "cell_type": "code",
   "execution_count": 5,
   "metadata": {},
   "outputs": [],
   "source": [
    "#make a payment update the balance\n",
    "def make_payment(debt_l,total_interest_l):\n",
    "    \n",
    "    principal_l = debt_l - total_interest_l\n",
    "    \n",
    "    #distribute the payment between interest and principal\n",
    "    interest_payment, principal_payment = payment_distribution( principal_l, debt_l, periodic_payment)\n",
    "    \n",
    "    #print payment distribution\n",
    "    print('Payment: $',round(periodic_payment,2), '      Interest: $',round(interest_payment,2),'     Principal:  $',round(principal_payment,2))\n",
    "\n",
    "    \n",
    "    #interest left\n",
    "    total_interest_l = total_interest_l - interest_payment\n",
    "    \n",
    "    #principal left\n",
    "    principal_l = principal_l - principal_payment\n",
    "    \n",
    "    #debt_left\n",
    "    debt_l = principal_l + total_interest_l\n",
    "    \n",
    "    return (debt_l, total_interest_l, principal_l)"
   ]
  },
  {
   "cell_type": "code",
   "execution_count": null,
   "metadata": {},
   "outputs": [],
   "source": [
    "\n",
    "while True:\n",
    "    \n",
    "        #gather user input\n",
    "        loan_amount, loan_term, interest_rate = gather_info()\n",
    "        \n",
    "        if loan_amount== -1:\n",
    "            break\n",
    "        \n",
    "        #assign variables based on user input\n",
    "        debt,periodic_payment,total_interest = debt_projection(loan_amount, interest_rate, loan_term)\n",
    "        #in case we want to call the original loan amount\n",
    "        principal = loan_amount\n",
    "\n",
    "        #summary table\n",
    "        for i in range(loan_term):\n",
    "\n",
    "            #make a payment\n",
    "            debt, total_interest, principal = make_payment(debt,total_interest)\n",
    "\n",
    "            #Print the remaining balance\n",
    "            print('Debt   : ${:.2f}    Principal Left: ${:.2f}    Interest Left: ${:.2f}'.format(debt,principal,total_interest))\n",
    "            print('\\n')\n",
    "\n",
    "            #repeat the loop\n",
    "            "
   ]
  },
  {
   "cell_type": "markdown",
   "metadata": {},
   "source": [
    "Program Flow: \n",
    "\n",
    "1. gather the term, loan amount and interest rate\n",
    "2. initiate the loan and the principal\n",
    "3. calculate the total debt\n",
    "4. calculate the total interest and interest:rest ratio\n",
    "5. determine the monthly payments\n",
    "6. determine the payment ratio between interest and the principal\n",
    "7. make a payment toward the principal and the principal and calculate the new total debt\n",
    "8. repeat steps 6,7\n"
   ]
  }
 ],
 "metadata": {
  "kernelspec": {
   "display_name": "Python 3",
   "language": "python",
   "name": "python3"
  },
  "language_info": {
   "codemirror_mode": {
    "name": "ipython",
    "version": 3
   },
   "file_extension": ".py",
   "mimetype": "text/x-python",
   "name": "python",
   "nbconvert_exporter": "python",
   "pygments_lexer": "ipython3",
   "version": "3.7.4"
  }
 },
 "nbformat": 4,
 "nbformat_minor": 2
}
