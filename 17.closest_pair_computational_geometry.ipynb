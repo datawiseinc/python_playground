{
 "nbformat": 4,
 "nbformat_minor": 2,
 "metadata": {
  "language_info": {
   "name": "python",
   "codemirror_mode": {
    "name": "ipython",
    "version": 3
   },
   "version": "3.7.4-final"
  },
  "orig_nbformat": 2,
  "file_extension": ".py",
  "mimetype": "text/x-python",
  "name": "python",
  "npconvert_exporter": "python",
  "pygments_lexer": "ipython3",
  "version": 3,
  "kernelspec": {
   "name": "python37464bitbasecondaf7b42bf6d0454650b41abaaea1d18348",
   "display_name": "Python 3.7.4 64-bit ('base': conda)"
  }
 },
 "cells": [
  {
   "cell_type": "markdown",
   "metadata": {},
   "source": [
    "Closest pair problem - The closest pair of points problem or closest pair problem is a problem of computational geometry: given n points in metric space, find a pair of points with the smallest distance between them."
   ]
  },
  {
   "cell_type": "code",
   "execution_count": 1,
   "metadata": {},
   "outputs": [],
   "source": [
    "import numpy as np \n",
    "import pandas as pd\n",
    "import math\n",
    "import pdb"
   ]
  },
  {
   "cell_type": "code",
   "execution_count": 2,
   "metadata": {},
   "outputs": [
    {
     "data": {
      "text/plain": "[(9, 26), (-34, -2), (-83, -17), (6, 23), (-43, -4)]"
     },
     "execution_count": 2,
     "metadata": {},
     "output_type": "execute_result"
    }
   ],
   "source": [
    "#let's have a list of coordinates\n",
    "np.random.seed(123)\n",
    "locations = []\n",
    "for i in range(5):\n",
    "    locations.append((np.random.randint(-100,100), np.random.randint(-100,100)))\n",
    "locations"
   ]
  },
  {
   "cell_type": "code",
   "execution_count": 3,
   "metadata": {},
   "outputs": [],
   "source": [
    "def distance(coordinate_1, coordinate_2):\n",
    "    x1,y1 = coordinate_1\n",
    "    x2,y2 = coordinate_2\n",
    "    distance = pow( pow( x2-x1 , 2 ) + pow( y2-y1 , 2) , 0.5 )\n",
    "    return distance"
   ]
  },
  {
   "cell_type": "code",
   "execution_count": 4,
   "metadata": {},
   "outputs": [],
   "source": [
    "#creates a list of uniques pairs of coordinates from a given list\n",
    "def combination_points(a_list):\n",
    "\n",
    "    coordinate_pairs = []\n",
    "\n",
    "    for i in range(len(a_list)-1):\n",
    "        point_1 = a_list[i]\n",
    "\n",
    "        j = i\n",
    "        while j < (len(a_list)-1) :\n",
    "                point_2 = a_list[j+1]\n",
    "\n",
    "                coordinate_pairs.append((point_1, point_2))\n",
    "\n",
    "                j +=1\n",
    "\n",
    "\n",
    "    return coordinate_pairs"
   ]
  },
  {
   "cell_type": "code",
   "execution_count": 5,
   "metadata": {},
   "outputs": [],
   "source": [
    "def closest_coordinates(location_coordinates=[]):\n",
    "    coordinates = []\n",
    "    while True:\n",
    "        #check if the user provided a coordinate list\n",
    "        if len(location_coordinates) != 0:\n",
    "            break\n",
    "        #check if the user provided a coordinate list\n",
    "        elif len(location_coordinates) == 0:\n",
    "            try:\n",
    "                x = float(input('Enter the X coordinate: '))\n",
    "                y = float(input('Enter the Y coordinate: '))\n",
    "                point = (x,y)\n",
    "                coordinates.append(point)\n",
    "            except:\n",
    "                location_coordinates = coordinates.copy()\n",
    "\n",
    "                break\n",
    "\n",
    "    #create a combination of unique point pairs\n",
    "    pairs = combination_points(location_coordinates)\n",
    "\n",
    "    #create a summary table\n",
    "    distance_table = pd.DataFrame(columns=['Point_1', 'Point_2', 'Distance'])\n",
    "\n",
    "    #call each point pairs and calculate the distance between them\n",
    "    for i in range(len(pairs)):\n",
    "\n",
    "        distance_table.loc[i]= [pairs[i][0], pairs[i][1], round(distance(pairs[i][0], pairs[i][1]),2)]\n",
    "\n",
    "    return distance_table"
   ]
  },
  {
   "cell_type": "code",
   "execution_count": 6,
   "metadata": {},
   "outputs": [
    {
     "data": {
      "text/html": "<div>\n<style scoped>\n    .dataframe tbody tr th:only-of-type {\n        vertical-align: middle;\n    }\n\n    .dataframe tbody tr th {\n        vertical-align: top;\n    }\n\n    .dataframe thead th {\n        text-align: right;\n    }\n</style>\n<table border=\"1\" class=\"dataframe\">\n  <thead>\n    <tr style=\"text-align: right;\">\n      <th></th>\n      <th>Point_1</th>\n      <th>Point_2</th>\n      <th>Distance</th>\n    </tr>\n  </thead>\n  <tbody>\n    <tr>\n      <td>0</td>\n      <td>(10.0, 1.0)</td>\n      <td>(2.0, 3.0)</td>\n      <td>8.25</td>\n    </tr>\n    <tr>\n      <td>1</td>\n      <td>(10.0, 1.0)</td>\n      <td>(2.0, 3.0)</td>\n      <td>8.25</td>\n    </tr>\n    <tr>\n      <td>2</td>\n      <td>(10.0, 1.0)</td>\n      <td>(5.0, 4.0)</td>\n      <td>5.83</td>\n    </tr>\n    <tr>\n      <td>3</td>\n      <td>(2.0, 3.0)</td>\n      <td>(2.0, 3.0)</td>\n      <td>0.00</td>\n    </tr>\n    <tr>\n      <td>4</td>\n      <td>(2.0, 3.0)</td>\n      <td>(5.0, 4.0)</td>\n      <td>3.16</td>\n    </tr>\n    <tr>\n      <td>5</td>\n      <td>(2.0, 3.0)</td>\n      <td>(5.0, 4.0)</td>\n      <td>3.16</td>\n    </tr>\n  </tbody>\n</table>\n</div>",
      "text/plain": "       Point_1     Point_2  Distance\n0  (10.0, 1.0)  (2.0, 3.0)      8.25\n1  (10.0, 1.0)  (2.0, 3.0)      8.25\n2  (10.0, 1.0)  (5.0, 4.0)      5.83\n3   (2.0, 3.0)  (2.0, 3.0)      0.00\n4   (2.0, 3.0)  (5.0, 4.0)      3.16\n5   (2.0, 3.0)  (5.0, 4.0)      3.16"
     },
     "execution_count": 6,
     "metadata": {},
     "output_type": "execute_result"
    }
   ],
   "source": [
    "closest_coordinates()"
   ]
  },
  {
   "cell_type": "code",
   "execution_count": null,
   "metadata": {},
   "outputs": [],
   "source": []
  }
 ]
}