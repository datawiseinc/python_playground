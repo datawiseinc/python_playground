{
 "cells": [
  {
   "cell_type": "code",
   "execution_count": 8,
   "metadata": {},
   "outputs": [],
   "source": [
    "#Calculate the total cost of tile it would take to cover \n",
    "#a floor plan of width and height, using a cost entered by the user."
   ]
  },
  {
   "cell_type": "code",
   "execution_count": 9,
   "metadata": {},
   "outputs": [
    {
     "name": "stdout",
     "output_type": "stream",
     "text": [
      "What is the width of the room?: 2\n",
      "What is the length of the room?: 2\n",
      "What is the height of the room?: 2\n"
     ]
    }
   ],
   "source": [
    "#gather the measurement\n",
    "width = float(input('What is the width of the room?: '))\n",
    "length = float(input('What is the length of the room?: '))\n",
    "height = float(input('What is the height of the room?: '))"
   ]
  },
  {
   "cell_type": "code",
   "execution_count": 10,
   "metadata": {},
   "outputs": [
    {
     "name": "stdout",
     "output_type": "stream",
     "text": [
      "How much is the tile per sq ft?: 3\n"
     ]
    }
   ],
   "source": [
    "#gather the unit cost\n",
    "cost_unit = float(input('How much is the tile per sq ft?: '))"
   ]
  },
  {
   "cell_type": "code",
   "execution_count": 15,
   "metadata": {},
   "outputs": [],
   "source": [
    "#function to calculate the total area\n",
    "def area(x,y,z):\n",
    "    floor = x * y\n",
    "    walls = 2 * (x+y) * z\n",
    "    return (floor + walls)"
   ]
  },
  {
   "cell_type": "code",
   "execution_count": 16,
   "metadata": {},
   "outputs": [],
   "source": [
    "#call the area function with the measurements\n",
    "area_total = area(width, length, height)\n",
    "\n",
    "#calculate the total cost\n",
    "cost = area_total * cost_unit"
   ]
  },
  {
   "cell_type": "code",
   "execution_count": 18,
   "metadata": {},
   "outputs": [
    {
     "name": "stdout",
     "output_type": "stream",
     "text": [
      "The total cost of covering a room with a width of 2.0ft, length of 2.0ft, and height of 2.0ft is $60.0.\n"
     ]
    }
   ],
   "source": [
    "#print the total cost\n",
    "print ('The total cost of covering a room with a width of {}ft, length of {}ft, and height of {}ft is ${}.'.format(width, length, height, cost))"
   ]
  },
  {
   "cell_type": "code",
   "execution_count": null,
   "metadata": {},
   "outputs": [],
   "source": []
  }
 ],
 "metadata": {
  "kernelspec": {
   "display_name": "Python 3",
   "language": "python",
   "name": "python3"
  },
  "language_info": {
   "codemirror_mode": {
    "name": "ipython",
    "version": 3
   },
   "file_extension": ".py",
   "mimetype": "text/x-python",
   "name": "python",
   "nbconvert_exporter": "python",
   "pygments_lexer": "ipython3",
   "version": "3.7.4"
  }
 },
 "nbformat": 4,
 "nbformat_minor": 2
}
