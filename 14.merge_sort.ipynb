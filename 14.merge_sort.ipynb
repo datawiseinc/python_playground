{
 "cells": [
  {
   "cell_type": "code",
   "execution_count": 1,
   "metadata": {},
   "outputs": [
    {
     "data": {
      "text/plain": [
       "[98, 59, 82, 51, 43]"
      ]
     },
     "execution_count": 1,
     "metadata": {},
     "output_type": "execute_result"
    }
   ],
   "source": [
    "import numpy as np\n",
    "import pdb\n",
    "np.random.seed(132)\n",
    "a_list = list(np.random.randint(1,100,5))\n",
    "a_list"
   ]
  },
  {
   "cell_type": "code",
   "execution_count": 2,
   "metadata": {},
   "outputs": [],
   "source": [
    "#disintegrates a list into its individual elements\n",
    "#keeps them in memory\n",
    "#calls the merger function and reconstructs the list\n",
    "def merge_sort(a_list) :\n",
    "    \n",
    "    if len(a_list) > 1:\n",
    "        mid_indx = len(a_list) // 2\n",
    "\n",
    "        left = a_list[:mid_indx]\n",
    "        right = a_list[mid_indx:]\n",
    "\n",
    "        merge_sort(left)\n",
    "        merge_sort(right)\n",
    "        \n",
    "        merger(a_list,left,right)\n",
    "        \n",
    "        return a_list\n",
    "        \n",
    "    \n",
    "    "
   ]
  },
  {
   "cell_type": "code",
   "execution_count": 3,
   "metadata": {},
   "outputs": [],
   "source": [
    "#merges two sorted lists and creates a new sorted list(if the lists are sorted)\n",
    "def merger(a_list, left, right):\n",
    "    i = z = k = 0\n",
    "    while i < len(left) and z < len(right):\n",
    "        if left[i] <= right[z]:\n",
    "            a_list[k] = left[i]\n",
    "            i+=1\n",
    "            k+=1\n",
    "\n",
    "        else:\n",
    "            \n",
    "            a_list[k] = right[z]\n",
    "            z+=1\n",
    "            k+=1\n",
    "            \n",
    "    while i < len(left):\n",
    "        a_list[k] = left[i]\n",
    "        i+=1\n",
    "        k+=1\n",
    "\n",
    "    while z < len(right):\n",
    "        a_list[k] = right[z]\n",
    "        z+=1\n",
    "        k+=1\n",
    "    "
   ]
  },
  {
   "cell_type": "code",
   "execution_count": 4,
   "metadata": {},
   "outputs": [
    {
     "data": {
      "text/plain": [
       "[43, 51, 59, 82, 98]"
      ]
     },
     "execution_count": 4,
     "metadata": {},
     "output_type": "execute_result"
    }
   ],
   "source": [
    "merge_sort(a_list)"
   ]
  }
 ],
 "metadata": {
  "kernelspec": {
   "display_name": "Python 3",
   "language": "python",
   "name": "python3"
  },
  "language_info": {
   "codemirror_mode": {
    "name": "ipython",
    "version": 3
   },
   "file_extension": ".py",
   "mimetype": "text/x-python",
   "name": "python",
   "nbconvert_exporter": "python",
   "pygments_lexer": "ipython3",
   "version": "3.7.4"
  }
 },
 "nbformat": 4,
 "nbformat_minor": 4
}
