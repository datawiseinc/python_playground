{
 "cells": [
  {
   "cell_type": "code",
   "execution_count": 1,
   "metadata": {},
   "outputs": [],
   "source": [
    "#import the libaries\n",
    "import numpy as np\n",
    "import sys\n",
    "\n",
    "#create a list\n",
    "np.random.seed(1234)\n",
    "a_list = list(np.random.randint(1,100000, 100000))"
   ]
  },
  {
   "cell_type": "code",
   "execution_count": 2,
   "metadata": {},
   "outputs": [],
   "source": [
    "#define user interface function\n",
    "def merge_sort(a_list):\n",
    "    first_index = 0\n",
    "    last_index = len(a_list)-1\n",
    "    merge_split(a_list, first_index, last_index)\n",
    "\n",
    "#function splits the lsit until there is one item in each list and then calls the merge func    \n",
    "def merge_split(a_list, first_index, last_index):\n",
    "    \n",
    "    if first_index < last_index:\n",
    "        \n",
    "        middle_index = (first_index+last_index)//2\n",
    " \n",
    "        merge_split(a_list, first_index, middle_index) #call the split function on the left half\n",
    "        \n",
    "        \n",
    "        merge_split(a_list, middle_index+1, last_index)  #call the split function on the right half\n",
    "          \n",
    "        merge(a_list, first_index,middle_index, last_index)\n",
    "        \n",
    "\n",
    "#merges two sorted lists\n",
    "def merge(a_list, first_index, middle_index, last_index):\n",
    "    \n",
    "    left_of_list = a_list[first_index:middle_index+1]\n",
    "    right_of_list = a_list[middle_index+1:last_index+1]\n",
    "    \n",
    "    #extend each half with a number larger than the mex in the list\n",
    "    left_of_list.append(sys.maxsize)\n",
    "    right_of_list.append(sys.maxsize)\n",
    "    \n",
    "    #left and right indexes\n",
    "    i = j = 0\n",
    "    \n",
    "    #compare each element in the left and right \n",
    "    for k in range(first_index, last_index+1):\n",
    "        \n",
    "        if left_of_list[i] <= right_of_list[j]:\n",
    "            a_list[k] = left_of_list[i]\n",
    "            i+=1\n",
    "\n",
    "        else:\n",
    "            a_list[k] = right_of_list[j]\n",
    "            j+=1"
   ]
  },
  {
   "cell_type": "code",
   "execution_count": null,
   "metadata": {},
   "outputs": [],
   "source": []
  }
 ],
 "metadata": {
  "kernelspec": {
   "display_name": "Python 3",
   "language": "python",
   "name": "python3"
  },
  "language_info": {
   "codemirror_mode": {
    "name": "ipython",
    "version": 3
   },
   "file_extension": ".py",
   "mimetype": "text/x-python",
   "name": "python",
   "nbconvert_exporter": "python",
   "pygments_lexer": "ipython3",
   "version": "3.7.4"
  }
 },
 "nbformat": 4,
 "nbformat_minor": 4
}
