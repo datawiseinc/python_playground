{
 "cells": [
  {
   "cell_type": "code",
   "execution_count": 1,
   "metadata": {},
   "outputs": [],
   "source": [
    "#my frequently used libraries. Comment out codes as needed\n",
    "\n",
    "#import sklearn as skl\n",
    "#import torch\n",
    "#import django\n",
    "import numpy as np\n",
    "#import pandas as pd\n",
    "#import statsmodels.api as sma\n",
    "#import scipy\n",
    "import matplotlib.pyplot as plt\n",
    "#import plotly\n",
    "#import dash\n",
    "#from pyspark.sql import SparkSession\n",
    "#from pyspark.ml.feature import VectorAssembler\n",
    "import seaborn\n",
    "seaborn.set()"
   ]
  },
  {
   "cell_type": "markdown",
   "metadata": {},
   "source": [
    "##  Image Visualization"
   ]
  },
  {
   "cell_type": "markdown",
   "metadata": {},
   "source": [
    "#### We can easily import and visualize images in Python with a few simple lines of code.\n",
    "\n",
    "### Here is an original bitmap image"
   ]
  },
  {
   "cell_type": "code",
   "execution_count": 2,
   "metadata": {},
   "outputs": [],
   "source": [
    "#Here is a hand drawn image\n",
    "pic = plt.imread('pic.bmp')"
   ]
  },
  {
   "cell_type": "code",
   "execution_count": 3,
   "metadata": {},
   "outputs": [
    {
     "data": {
      "text/plain": [
       "<matplotlib.image.AxesImage at 0x2364e8a2a08>"
      ]
     },
     "execution_count": 3,
     "metadata": {},
     "output_type": "execute_result"
    },
    {
     "data": {
      "image/png": "[encoded data removed]",
      "text/plain": [
       "<Figure size 432x288 with 1 Axes>"
      ]
     },
     "metadata": {},
     "output_type": "display_data"
    }
   ],
   "source": [
    "#we can easily import and show an image with the matplot lib\n",
    "plt.imshow(pic)"
   ]
  },
  {
   "cell_type": "code",
   "execution_count": 4,
   "metadata": {},
   "outputs": [
    {
     "data": {
      "text/plain": [
       "numpy.ndarray"
      ]
     },
     "execution_count": 4,
     "metadata": {},
     "output_type": "execute_result"
    }
   ],
   "source": [
    "#matplotlib imports the image as a numpy array\n",
    "type(pic)"
   ]
  },
  {
   "cell_type": "code",
   "execution_count": 5,
   "metadata": {},
   "outputs": [
    {
     "data": {
      "text/plain": [
       "(653, 623, 4)"
      ]
     },
     "execution_count": 5,
     "metadata": {},
     "output_type": "execute_result"
    }
   ],
   "source": [
    "#image is a three dimesional array\n",
    "pic.shape"
   ]
  },
  {
   "cell_type": "markdown",
   "metadata": {},
   "source": [
    "### Let's do this manually without using any of the Python methods"
   ]
  },
  {
   "cell_type": "markdown",
   "metadata": {},
   "source": [
    "#### (Optional) Convert the image to Black and White by scaling the RGB color codes to 1 and 0 s"
   ]
  },
  {
   "cell_type": "code",
   "execution_count": 6,
   "metadata": {},
   "outputs": [],
   "source": [
    "#Create a blank canvas with the same size as the original pic\n",
    "pic_BW = np.zeros((pic.shape[0],pic.shape[1])) #rows are Y axis, columns are X axis\n",
    "\n",
    "#Scan the third axis (for color) and if there is color scale it to 1, if no color, scale it to 0\n",
    "\n",
    "for y in range(pic_BW.shape[0]):  #move to the y coordinate of a pixel\n",
    "    \n",
    "    for x in range(pic.shape[1]):  #move to the x coordinate of a pixel for  each y coordinate\n",
    "        \n",
    "        if pic[y][x].sum()!=1020:  #checking the z(color) axis #if the white color adds upto 1020\n",
    "        \n",
    "            pic_BW[y][x] = y  #  Mark y for color\n",
    "            "
   ]
  },
  {
   "cell_type": "code",
   "execution_count": 7,
   "metadata": {},
   "outputs": [
    {
     "data": {
      "text/plain": [
       "623"
      ]
     },
     "execution_count": 7,
     "metadata": {},
     "output_type": "execute_result"
    }
   ],
   "source": [
    "pic_BW.shape[1]"
   ]
  },
  {
   "cell_type": "markdown",
   "metadata": {},
   "source": [
    "### Now the colors are removed, it is time to convert the array to graph dictionary"
   ]
  },
  {
   "cell_type": "code",
   "execution_count": 8,
   "metadata": {},
   "outputs": [],
   "source": [
    "#convert the image array to graph dictionary\n",
    "graph ={}  #empty dictionary to hold the x coordinate as key and y as value\n",
    "\n",
    "for x in range(pic_BW.shape[1]):  #take each x coordinate as the keys\n",
    "    \n",
    "    graph[x] = list(pic_BW[:,x])  #copy the column corresponding to each x as the values"
   ]
  },
  {
   "cell_type": "markdown",
   "metadata": {},
   "source": [
    "### And let's use the graph dictionary, to create the coordinates"
   ]
  },
  {
   "cell_type": "code",
   "execution_count": 9,
   "metadata": {},
   "outputs": [],
   "source": [
    "#create coordinate tuples using the graph dictionary    \n",
    "x=[]  #x coordinate list\n",
    "y=[]  #y coordinate list\n",
    "\n",
    "for key in graph.keys():  #pair up each key with each value as a tuple to create coordinates\n",
    "         \n",
    "    for item in graph[key]:  #pick each value from each key\n",
    "        \n",
    "        x.append(key)  #creating as many x's as the # of values in key\n",
    "        \n",
    "        y.append(item) #add the value to the y coordinate list"
   ]
  },
  {
   "cell_type": "code",
   "execution_count": 10,
   "metadata": {},
   "outputs": [
    {
     "data": {
      "text/plain": [
       "(650.0, 0.0)"
      ]
     },
     "execution_count": 10,
     "metadata": {},
     "output_type": "execute_result"
    },
    {
     "data": {
      "image/png": "[encoded data removed]",
      "text/plain": [
       "<Figure size 432x288 with 1 Axes>"
      ]
     },
     "metadata": {},
     "output_type": "display_data"
    }
   ],
   "source": [
    "#graph the image\n",
    "plt.scatter(x,y)\n",
    "plt.ylim(650,0)"
   ]
  },
  {
   "cell_type": "markdown",
   "metadata": {},
   "source": [
    "### (Optional) We can also remove the 0's generated in the canvas to eliminate the line."
   ]
  },
  {
   "cell_type": "markdown",
   "metadata": {},
   "source": [
    "The (x,y) coordinates are stored in the 'graph' variable. We can eliminate the (key:0) coordinates with a simple function"
   ]
  },
  {
   "cell_type": "code",
   "execution_count": 11,
   "metadata": {},
   "outputs": [],
   "source": [
    "#copied the complete graph to a new dictionary\n",
    "graph_nz = graph.copy()"
   ]
  },
  {
   "cell_type": "code",
   "execution_count": 12,
   "metadata": {},
   "outputs": [],
   "source": [
    "for key in graph_nz.keys():\n",
    "    while 0 in graph_nz[key]:\n",
    "            graph_nz[key].remove(0)"
   ]
  },
  {
   "cell_type": "code",
   "execution_count": 13,
   "metadata": {},
   "outputs": [],
   "source": [
    "#create coordinate tuples using the graph dictionary    \n",
    "x=[]  #x coordinate list\n",
    "y=[]  #y coordinate list\n",
    "\n",
    "for key in graph_nz.keys():  #pair up each key with each value as a tuple to create coordinates\n",
    "         \n",
    "    for item in graph_nz[key]:  #pick each value from each key\n",
    "        \n",
    "        x.append(key)  #creating as many x's as the # of values in key\n",
    "        \n",
    "        y.append(item) #add the value to the y coordinate list"
   ]
  },
  {
   "cell_type": "code",
   "execution_count": 14,
   "metadata": {},
   "outputs": [
    {
     "data": {
      "text/plain": [
       "(650.0, 0.0)"
      ]
     },
     "execution_count": 14,
     "metadata": {},
     "output_type": "execute_result"
    },
    {
     "data": {
      "image/png": "[encoded data removed]",
      "text/plain": [
       "<Figure size 432x288 with 1 Axes>"
      ]
     },
     "metadata": {},
     "output_type": "display_data"
    }
   ],
   "source": [
    "#graph the image\n",
    "plt.scatter(x,y)\n",
    "plt.ylim(650,0)"
   ]
  },
  {
   "cell_type": "code",
   "execution_count": null,
   "metadata": {},
   "outputs": [],
   "source": []
  }
 ],
 "metadata": {
  "kernelspec": {
   "display_name": "Python 3",
   "language": "python",
   "name": "python3"
  },
  "language_info": {
   "codemirror_mode": {
    "name": "ipython",
    "version": 3
   },
   "file_extension": ".py",
   "mimetype": "text/x-python",
   "name": "python",
   "nbconvert_exporter": "python",
   "pygments_lexer": "ipython3",
   "version": "3.7.6"
  }
 },
 "nbformat": 4,
 "nbformat_minor": 4
}
