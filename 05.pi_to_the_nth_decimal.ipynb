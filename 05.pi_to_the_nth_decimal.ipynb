{
 "cells": [
  {
   "cell_type": "code",
   "execution_count": 1,
   "metadata": {},
   "outputs": [],
   "source": [
    "import math\n",
    "import decimal\n",
    "from decimal import *\n"
   ]
  },
  {
   "cell_type": "code",
   "execution_count": 2,
   "metadata": {},
   "outputs": [
    {
     "name": "stdout",
     "output_type": "stream",
     "text": [
      "The default context and precision of this module is: \n",
      " Context(prec=28, rounding=ROUND_HALF_EVEN, Emin=-999999, Emax=999999, capitals=1, clamp=0, flags=[], traps=[InvalidOperation, DivisionByZero, Overflow])\n"
     ]
    }
   ],
   "source": [
    "#global context\n",
    "print ('The default context and precision of this module is: \\n',getcontext())"
   ]
  },
  {
   "cell_type": "code",
   "execution_count": 7,
   "metadata": {
    "scrolled": true
   },
   "outputs": [],
   "source": [
    "#calculates pi using rapidly converging series\n",
    "#default context is 100\n",
    "def pi ():\n",
    "    try:\n",
    "        digits = int(input('How many digits would you like in your pie?'))\n",
    "    except:\n",
    "        digits = 17\n",
    "    #clear the default precision values\n",
    "    getcontext().clear_flags()\n",
    "    \n",
    "    #sets the local context to default or desired precision\n",
    "    with localcontext() as ctx:\n",
    "        ctx.prec = 1000\n",
    "        \n",
    "        ctx.rounding = ROUND_HALF_DOWN\n",
    "        \n",
    "        #create the constant variable of the converging series\n",
    "        constant = 2 * Decimal(math.sqrt(2))/9801\n",
    "        \n",
    "        #calculation variable  is equal to  numerator divided by denominator per the converging series \n",
    "        \n",
    "        calculation = 0 \n",
    "        \n",
    "        #k is set to 30 but can be increased for better accuracy: max  is infinity:)\n",
    "        for k in range(30):\n",
    "            #calculate the numerator of the series\n",
    "            numerator = math.factorial(4*k) * (1103 + 26390 * k)\n",
    "            \n",
    "            #calculate the denominator of the series\n",
    "            denominator = math.pow(math.factorial(k),4) * math.pow(396, 4*k)\n",
    "            \n",
    "            #group the numerator and denominator under calculation variable for clarity\n",
    "            #but not necessary\n",
    "            calculation += Decimal(numerator) / Decimal (denominator)\n",
    "            \n",
    "        #prints the local context to confirm our code is working but not necessary\n",
    "        #comment out the code below if you prefer\n",
    "        print ('The precision context in this pi function is ','\\n', getcontext(),'\\n')\n",
    "        \n",
    "        #apply the converging series formula and its inverse is pi. Then convert to a string\n",
    "        pie = str( Decimal(1) / (Decimal(constant) * Decimal(calculation)))\n",
    "        \n",
    "        #slice pie variable to the desired number of digits and return it\n",
    "        return float(pie[:digits])\n",
    "        \n",
    "    "
   ]
  },
  {
   "cell_type": "code",
   "execution_count": 8,
   "metadata": {},
   "outputs": [],
   "source": [
    "#pi with default settings\n",
    "#print(pi())\n",
    "#pi with three decimals\n",
    "#print(pi(3))"
   ]
  },
  {
   "cell_type": "code",
   "execution_count": 10,
   "metadata": {},
   "outputs": [
    {
     "name": "stdin",
     "output_type": "stream",
     "text": [
      "How many digits would you like in your pie? \n"
     ]
    },
    {
     "name": "stdout",
     "output_type": "stream",
     "text": [
      "The precision context in this pi function is  \n",
      " Context(prec=1000, rounding=ROUND_HALF_DOWN, Emin=-999999, Emax=999999, capitals=1, clamp=0, flags=[Clamped, Inexact, FloatOperation, Rounded], traps=[InvalidOperation, DivisionByZero, Overflow]) \n",
      "\n"
     ]
    },
    {
     "data": {
      "text/plain": [
       "True"
      ]
     },
     "execution_count": 10,
     "metadata": {},
     "output_type": "execute_result"
    }
   ],
   "source": [
    "#for comparison with the pi from the math module\n",
    "math_pi = math.pi\n",
    "pi_pi = pi()\n",
    "#compare the two\n",
    "math_pi == pi_pi"
   ]
  }
 ],
 "metadata": {
  "kernelspec": {
   "display_name": "Python 3",
   "language": "python",
   "name": "python3"
  },
  "language_info": {
   "codemirror_mode": {
    "name": "ipython",
    "version": 3
   },
   "file_extension": ".py",
   "mimetype": "text/x-python",
   "name": "python",
   "nbconvert_exporter": "python",
   "pygments_lexer": "ipython3",
   "version": "3.7.4"
  }
 },
 "nbformat": 4,
 "nbformat_minor": 4
}
