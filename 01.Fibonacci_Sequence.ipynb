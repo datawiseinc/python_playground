{
 "cells": [
  {
   "cell_type": "code",
   "execution_count": 1,
   "metadata": {},
   "outputs": [],
   "source": [
    "#Fibonacci Series follows the pattern below\n",
    "#a and b are 0 and 1, respectively.\n",
    "#the next number in the series is the total of the previous two numbers\n",
    "#such that a,b,c,d are  four consecutive values in series and c=a+b and d=c+b"
   ]
  },
  {
   "cell_type": "code",
   "execution_count": 2,
   "metadata": {},
   "outputs": [],
   "source": [
    "#define a generator to calculate the two consecutive numbers in the series\n",
    "def fib(count = 4):\n",
    "    #series starts with 0 and 1\n",
    "    a, b = 0 , 1\n",
    "    #each following item is the the total of the previous two\n",
    "    for i in range (count):\n",
    "        a , b = b, (a+b)\n",
    "        yield b"
   ]
  },
  {
   "cell_type": "code",
   "execution_count": null,
   "metadata": {},
   "outputs": [],
   "source": [
    "#gather user input\n",
    "while True:\n",
    "    try:\n",
    "        count = int(input('How many items in the series?(Must be a positive integer less than 1000) : '))\n",
    "        #set a maximum count\n",
    "        if 0 < count < 1000:\n",
    "            break\n",
    "        else:\n",
    "            continue\n",
    "    except:\n",
    "        continue\n",
    "\n",
    "#initiate a list to store the series\n",
    "fib_series = [0]\n",
    "\n",
    "#call the fib generator and as many times as the user wants\n",
    "for i in fib(count):\n",
    "    #store each output in a list\n",
    "    #fib_series.append(i)\n",
    "    print(i)\n",
    "\n",
    "#check the result\n",
    "#fib_series\n"
   ]
  },
  {
   "cell_type": "code",
   "execution_count": null,
   "metadata": {},
   "outputs": [],
   "source": []
  }
 ],
 "metadata": {
  "kernelspec": {
   "display_name": "Python 3",
   "language": "python",
   "name": "python3"
  },
  "language_info": {
   "codemirror_mode": {
    "name": "ipython",
    "version": 3
   },
   "file_extension": ".py",
   "mimetype": "text/x-python",
   "name": "python",
   "nbconvert_exporter": "python",
   "pygments_lexer": "ipython3",
   "version": "3.7.4"
  }
 },
 "nbformat": 4,
 "nbformat_minor": 2
}
