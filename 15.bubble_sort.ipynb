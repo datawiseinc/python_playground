{
 "cells": [
  {
   "cell_type": "code",
   "execution_count": 1,
   "metadata": {},
   "outputs": [
    {
     "data": {
      "text/plain": [
       "[38, 76, 4, 22, 33, 71, 45, 84, 43, 23]"
      ]
     },
     "execution_count": 1,
     "metadata": {},
     "output_type": "execute_result"
    }
   ],
   "source": [
    "import numpy as np\n",
    "import pdb\n",
    "np.random.seed(1245)\n",
    "a_list = list(np.random.randint(1,100,10))\n",
    "a_list"
   ]
  },
  {
   "cell_type": "code",
   "execution_count": 2,
   "metadata": {},
   "outputs": [],
   "source": [
    "#sorts a list using the bubble_sort algorithm\n",
    "def bubble_sort(a_list):\n",
    "    \n",
    "    for k in range(len(a_list)-1):\n",
    "        i = 0\n",
    "        while i < (len(a_list)-1):\n",
    "            \n",
    "            if a_list[i] > a_list[i+1]:\n",
    "                \n",
    "                a_list[i] , a_list[i+1] = a_list[i+1], a_list[i]\n",
    "                i+=1\n",
    "            else:\n",
    "                i+=1\n",
    "                continue\n",
    "                \n",
    "\n",
    "    return a_list\n",
    "        \n",
    "\n",
    "    "
   ]
  },
  {
   "cell_type": "code",
   "execution_count": 3,
   "metadata": {},
   "outputs": [
    {
     "name": "stdout",
     "output_type": "stream",
     "text": [
      "[4, 22, 23, 33, 38, 43, 45, 71, 76, 84]\n"
     ]
    }
   ],
   "source": [
    "print (bubble_sort(a_list))"
   ]
  },
  {
   "cell_type": "code",
   "execution_count": null,
   "metadata": {},
   "outputs": [],
   "source": []
  }
 ],
 "metadata": {
  "kernelspec": {
   "display_name": "Python 3",
   "language": "python",
   "name": "python3"
  },
  "language_info": {
   "codemirror_mode": {
    "name": "ipython",
    "version": 3
   },
   "file_extension": ".py",
   "mimetype": "text/x-python",
   "name": "python",
   "nbconvert_exporter": "python",
   "pygments_lexer": "ipython3",
   "version": "3.7.4"
  }
 },
 "nbformat": 4,
 "nbformat_minor": 4
}
