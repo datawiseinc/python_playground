{
 "cells": [
  {
   "cell_type": "code",
   "execution_count": 1,
   "metadata": {},
   "outputs": [],
   "source": [
    "#import the os library\n",
    "import os"
   ]
  },
  {
   "cell_type": "code",
   "execution_count": 2,
   "metadata": {},
   "outputs": [],
   "source": [
    "#save the path of the folder to a variable\n",
    "source_folder = 'temp/'"
   ]
  },
  {
   "cell_type": "code",
   "execution_count": 3,
   "metadata": {},
   "outputs": [
    {
     "data": {
      "text/plain": [
       "['preprocessed_sales.csv', 'processed_calendar.csv']"
      ]
     },
     "execution_count": 3,
     "metadata": {},
     "output_type": "execute_result"
    }
   ],
   "source": [
    "# save the file and folder names in a folder as a list\n",
    "file_list = os.listdir(source_folder)  \n",
    "file_list"
   ]
  },
  {
   "cell_type": "code",
   "execution_count": 4,
   "metadata": {},
   "outputs": [],
   "source": [
    "#iterate over each file name in the folder\n",
    "for file in file_list:\n",
    "    \n",
    "    try:\n",
    "        #design the file name\n",
    "        file_suffix = file.split('_')[1]  #extracting the last part of the original file name. You Might need regX\n",
    "        \n",
    "        new_name = 'preprocessed_' + file_suffix   #constructing the new file name\n",
    "        \n",
    "        source_file = source_folder+file  #construct the source file path\n",
    "        \n",
    "        new_file = source_folder + new_name  #construct the destination file path\n",
    "        \n",
    "        os.rename(source_file, new_file )  #rename the source file with the new file name\n",
    "        \n",
    "        \n",
    "    except:\n",
    "        pass\n",
    "    "
   ]
  },
  {
   "cell_type": "code",
   "execution_count": 5,
   "metadata": {},
   "outputs": [
    {
     "data": {
      "text/plain": [
       "['preprocessed_calendar.csv', 'preprocessed_sales.csv']"
      ]
     },
     "execution_count": 5,
     "metadata": {},
     "output_type": "execute_result"
    }
   ],
   "source": [
    "#Check the results\n",
    "os.listdir(source_folder)"
   ]
  },
  {
   "cell_type": "code",
   "execution_count": null,
   "metadata": {},
   "outputs": [],
   "source": []
  }
 ],
 "metadata": {
  "kernelspec": {
   "display_name": "Python 3",
   "language": "python",
   "name": "python3"
  },
  "language_info": {
   "codemirror_mode": {
    "name": "ipython",
    "version": 3
   },
   "file_extension": ".py",
   "mimetype": "text/x-python",
   "name": "python",
   "nbconvert_exporter": "python",
   "pygments_lexer": "ipython3",
   "version": "3.7.7"
  }
 },
 "nbformat": 4,
 "nbformat_minor": 4
}
