{
 "cells": [
  {
   "cell_type": "markdown",
   "metadata": {},
   "source": [
    "### Unit Converter (temp, currency, volume, mass and more) \n",
    "- Converts various units between one another. The user enters the type of unit being entered, the type of unit they want to convert to and then the value. The program will then make the conversion."
   ]
  },
  {
   "cell_type": "code",
   "execution_count": 1,
   "metadata": {},
   "outputs": [],
   "source": [
    "import ipywidgets as wg"
   ]
  },
  {
   "cell_type": "code",
   "execution_count": 2,
   "metadata": {},
   "outputs": [],
   "source": [
    "#F_C converter\n",
    "f_c = wg.IntSlider(description='Fahreneight', value=32, min=-100, max=500)\n",
    "\n",
    "def f_to_c(a):\n",
    "     print('{}F = {:.1f}C'.format(a, (a-32)/1.8))\n",
    "        \n",
    "out = wg.interactive_output(f_to_c, {'a':f_c})\n",
    "\n",
    "f_c_converter = wg.HBox([wg.VBox([f_c]), out])"
   ]
  },
  {
   "cell_type": "code",
   "execution_count": 3,
   "metadata": {},
   "outputs": [],
   "source": [
    "#C_F converter\n",
    "c_f = wg.IntSlider(description='Celcius', value=0, min=-100, max=500)\n",
    "\n",
    "def c_to_f(a):\n",
    "     print('{}C = {:.1f}F'.format(a, (a*1.8+32)))\n",
    "        \n",
    "out = wg.interactive_output(c_to_f, {'a':c_f})\n",
    "\n",
    "c_f_converter = wg.HBox([wg.VBox([c_f]), out])"
   ]
  },
  {
   "cell_type": "code",
   "execution_count": 4,
   "metadata": {},
   "outputs": [],
   "source": [
    "#kg_lb converter\n",
    "kg_lb = wg.FloatSlider(description='kg', value=0, min=0, max=1000, step=0.1)\n",
    "\n",
    "def kg_to_lb(a):\n",
    "     print('{}kg = {:.1f}lb'.format(a, (a*2.2)))\n",
    "        \n",
    "out = wg.interactive_output(kg_to_lb, {'a':kg_lb})\n",
    "\n",
    "kg_lb_converter = wg.HBox([wg.VBox([kg_lb]), out])"
   ]
  },
  {
   "cell_type": "code",
   "execution_count": 5,
   "metadata": {},
   "outputs": [],
   "source": [
    "#lb_kg converter\n",
    "lb_kg = wg.FloatSlider(description='lb', value=0, min=0, max=1000, step=0.1)\n",
    "\n",
    "def lb_to_kg(a):\n",
    "     print('{}lb = {:.1f}kg'.format(a, (a/2.2)))\n",
    "        \n",
    "out = wg.interactive_output(lb_to_kg, {'a':lb_kg})\n",
    "\n",
    "lb_kg_converter = wg.HBox([wg.VBox([lb_kg]), out])"
   ]
  },
  {
   "cell_type": "code",
   "execution_count": 6,
   "metadata": {},
   "outputs": [],
   "source": [
    "#km_mile converter\n",
    "km_mi = wg.FloatSlider(description='km', value=0, min=0, max=10000, step=0.1)\n",
    "\n",
    "def km_to_mi(a):\n",
    "     print('{}km = {:.1f}mi'.format(a, (a*1.6)))\n",
    "        \n",
    "out = wg.interactive_output(km_to_mi, {'a':km_mi})\n",
    "\n",
    "km_mi_converter = wg.HBox([wg.VBox([km_mi]), out])"
   ]
  },
  {
   "cell_type": "code",
   "execution_count": 7,
   "metadata": {},
   "outputs": [],
   "source": [
    "mi_km = wg.FloatSlider(description='mile', value=0, min=0, max=10000, step=0.1)\n",
    "\n",
    "def mi_to_km(a):\n",
    "    print('{}mi = {:.1f}km'.format(a, (a/1.6)))\n",
    "    \n",
    "out = wg.interactive_output(mi_to_km, {'a':mi_km})\n",
    "\n",
    "mi_km_converter = wg.HBox([wg.VBox([mi_km]), out])"
   ]
  },
  {
   "cell_type": "code",
   "execution_count": 8,
   "metadata": {},
   "outputs": [],
   "source": [
    "children = [f_c_converter,c_f_converter,kg_lb_converter,lb_kg_converter,km_mi_converter,mi_km_converter]\n",
    "tabs = ['C_F', 'F_C', 'kg_lb', 'lb_kg', 'km_mi', 'mi_km']\n",
    "tab = wg.Tab()\n",
    "tab.children = children\n",
    "for i in range(len(children)):\n",
    "    tab.set_title(i, tabs[i])\n"
   ]
  },
  {
   "cell_type": "code",
   "execution_count": 9,
   "metadata": {},
   "outputs": [
    {
     "name": "stdout",
     "output_type": "stream",
     "text": [
      "Pick a tab to start converting units\n"
     ]
    },
    {
     "data": {
      "application/vnd.jupyter.widget-view+json": {
       "model_id": "535518778106492a91387724b47ae8e2",
       "version_major": 2,
       "version_minor": 0
      },
      "text/plain": [
       "Tab(children=(HBox(children=(VBox(children=(IntSlider(value=32, description='Fahreneight', max=500, min=-100),…"
      ]
     },
     "metadata": {},
     "output_type": "display_data"
    }
   ],
   "source": [
    "print ('Pick a tab to start converting units')\n",
    "tab"
   ]
  },
  {
   "cell_type": "code",
   "execution_count": null,
   "metadata": {},
   "outputs": [],
   "source": []
  },
  {
   "cell_type": "code",
   "execution_count": null,
   "metadata": {},
   "outputs": [],
   "source": []
  }
 ],
 "metadata": {
  "kernelspec": {
   "display_name": "Python 3",
   "language": "python",
   "name": "python3"
  },
  "language_info": {
   "codemirror_mode": {
    "name": "ipython",
    "version": 3
   },
   "file_extension": ".py",
   "mimetype": "text/x-python",
   "name": "python",
   "nbconvert_exporter": "python",
   "pygments_lexer": "ipython3",
   "version": "3.7.4"
  }
 },
 "nbformat": 4,
 "nbformat_minor": 2
}
