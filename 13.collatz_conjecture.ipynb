{
 "cells": [
  {
   "cell_type": "markdown",
   "metadata": {},
   "source": [
    "Collatz Conjecture - Start with a number n > 1. Find the number of steps it takes to reach one using the following process: If n is even, divide it by 2. If n is odd, multiply it by 3 and add 1."
   ]
  },
  {
   "cell_type": "code",
   "execution_count": 1,
   "metadata": {},
   "outputs": [],
   "source": [
    "def collatz(x=1):\n",
    "    n =x\n",
    "    step=0\n",
    "    sequence = []\n",
    "    while n >= 1:\n",
    "        if n == 1:\n",
    "            print ('collatz sequence for ',x,'after {} steps is:'.format(step))\n",
    "            print(sequence)\n",
    "            break\n",
    "            \n",
    "        elif n%2 == 0: #test for even cases\n",
    "            n = n / 2 #apply the rule\n",
    "            sequence.append(n)\n",
    "            step += 1 #increment the step count\n",
    "            \n",
    "\n",
    "        else:  #check for odd cases\n",
    "            n = ( n * 3 ) + 1  #apply the rule for odd numbers\n",
    "            sequence.append(n)\n",
    "            step += 1  #increment the step count\n"
   ]
  },
  {
   "cell_type": "code",
   "execution_count": 2,
   "metadata": {},
   "outputs": [
    {
     "name": "stdout",
     "output_type": "stream",
     "text": [
      "collatz sequence for  10 after 6 steps is:\n",
      "[5.0, 16.0, 8.0, 4.0, 2.0, 1.0]\n"
     ]
    }
   ],
   "source": [
    "collatz(10)"
   ]
  },
  {
   "cell_type": "code",
   "execution_count": 3,
   "metadata": {},
   "outputs": [
    {
     "name": "stdout",
     "output_type": "stream",
     "text": [
      "collatz sequence for  15 after 17 steps is:\n",
      "[46, 23.0, 70.0, 35.0, 106.0, 53.0, 160.0, 80.0, 40.0, 20.0, 10.0, 5.0, 16.0, 8.0, 4.0, 2.0, 1.0]\n"
     ]
    }
   ],
   "source": [
    "collatz(15)"
   ]
  }
 ],
 "metadata": {
  "kernelspec": {
   "display_name": "Python 3",
   "language": "python",
   "name": "python3"
  },
  "language_info": {
   "codemirror_mode": {
    "name": "ipython",
    "version": 3
   },
   "file_extension": ".py",
   "mimetype": "text/x-python",
   "name": "python",
   "nbconvert_exporter": "python",
   "pygments_lexer": "ipython3",
   "version": "3.7.4"
  }
 },
 "nbformat": 4,
 "nbformat_minor": 4
}
