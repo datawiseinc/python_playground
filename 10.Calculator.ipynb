{
 "cells": [
  {
   "cell_type": "markdown",
   "metadata": {},
   "source": [
    "### Calculator \n",
    "- A simple calculator to do basic operators. Make it a scientific calculator for added complexity."
   ]
  },
  {
   "cell_type": "markdown",
   "metadata": {},
   "source": [
    " "
   ]
  },
  {
   "cell_type": "code",
   "execution_count": 1,
   "metadata": {},
   "outputs": [],
   "source": [
    "def add(input1, input2):\n",
    "    try:\n",
    "        return input1 + input2\n",
    "    except:\n",
    "        return 'invalid entry'\n",
    "\n",
    "def multiply(input1, input2):\n",
    "    try:\n",
    "        return input1 * input2\n",
    "    except:\n",
    "        return 'invalid entry'\n",
    "\n",
    "def subtract(input1, input2):\n",
    "    try:\n",
    "        return input1 - input2\n",
    "    except:\n",
    "        return 'invalid entry'\n",
    "    \n",
    "def divide(input1, input2):\n",
    "    try:\n",
    "        return input1 / input2\n",
    "    except:\n",
    "        return 'invalid entry'"
   ]
  },
  {
   "cell_type": "code",
   "execution_count": 2,
   "metadata": {},
   "outputs": [],
   "source": [
    "#define the operator function\n",
    "def operator_function (operator):\n",
    "    if operator == '+':\n",
    "        return add\n",
    "    elif operator == '-':\n",
    "        return subtract\n",
    "    elif operator == '*':\n",
    "        return multiply\n",
    "    elif operator == '/':\n",
    "        return divide\n",
    "    else:\n",
    "        print ('unsupported operator')\n",
    "        "
   ]
  },
  {
   "cell_type": "code",
   "execution_count": null,
   "metadata": {},
   "outputs": [
    {
     "name": "stdout",
     "output_type": "stream",
     "text": [
      "Start calculating: \n",
      "#: 10\n",
      "* / + - : -\n",
      "#: 2\n",
      "* / + - : =\n",
      "result:  8.0\n"
     ]
    }
   ],
   "source": [
    "while True:\n",
    "    \n",
    "    calculator=input('Start calculating: ')\n",
    "    if calculator == 'quit' :\n",
    "        break\n",
    "\n",
    "    num_1= float(input('#: '))\n",
    "    operator_1 = input('* / + - : ')\n",
    "    num_2= float(input('#: '))\n",
    "    \n",
    "\n",
    "    \n",
    "\n",
    "    \n",
    "    \n",
    "    while True:\n",
    "\n",
    "        if operator_1 == '/' or operator_1 == '*':\n",
    "\n",
    "            operation = operator_function(operator_1)\n",
    "            num_1 = operation(num_1,num_2)\n",
    "            print (num_1)\n",
    "\n",
    "            operator_1 = input('* / + - : ')\n",
    "            num_2=float(input('# : '))\n",
    "            continue\n",
    "\n",
    "        operator_2 = input('* / + - : ')   \n",
    "\n",
    "        if operator_2 == '/' or operator_2 == '*':\n",
    "            operation = operator_function(operator_2)\n",
    "\n",
    "            num_3=float(input('# : '))\n",
    "            num_2 = operation(num_2,num_3)\n",
    "            \n",
    "            continue\n",
    "\n",
    "        if operator_2 == '+' or operator_2 == '-':\n",
    "            operation = operator_function(operator_1)\n",
    "            num_1 = operation(num_1,num_2)\n",
    "            print(num_1)\n",
    "            operator_1 = operator_2\n",
    "            num_2=float(input('# : '))\n",
    "\n",
    "            continue\n",
    "\n",
    "\n",
    "        if operator_2 == '=':\n",
    "\n",
    "            operation = operator_function(operator_1)\n",
    "\n",
    "            print ( 'result: ',operation(num_1,num_2) )\n",
    "\n",
    "            break\n"
   ]
  },
  {
   "cell_type": "code",
   "execution_count": null,
   "metadata": {},
   "outputs": [],
   "source": []
  }
 ],
 "metadata": {
  "kernelspec": {
   "display_name": "Python 3",
   "language": "python",
   "name": "python3"
  },
  "language_info": {
   "codemirror_mode": {
    "name": "ipython",
    "version": 3
   },
   "file_extension": ".py",
   "mimetype": "text/x-python",
   "name": "python",
   "nbconvert_exporter": "python",
   "pygments_lexer": "ipython3",
   "version": "3.7.4"
  }
 },
 "nbformat": 4,
 "nbformat_minor": 2
}
