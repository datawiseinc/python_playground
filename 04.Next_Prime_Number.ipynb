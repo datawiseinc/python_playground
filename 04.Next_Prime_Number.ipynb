{
 "cells": [
  {
   "cell_type": "code",
   "execution_count": 12,
   "metadata": {},
   "outputs": [],
   "source": [
    "#Have the program find prime numbers until the user chooses to stop asking for the next one."
   ]
  },
  {
   "cell_type": "code",
   "execution_count": 13,
   "metadata": {},
   "outputs": [],
   "source": [
    "#tests if a number is a prime number\n",
    "def is_prime(x):\n",
    "    #1 and 2 are default primes\n",
    "    if x==1 or x==2:\n",
    "        return True\n",
    "    \n",
    "    #prime numbers are divisible by only 1 and themselves\n",
    "    for i in range(2,x):\n",
    "        if x % i == 0:\n",
    "            return False \n",
    "    #if the number x wasn't divisible by a number between 1 and itself, it must be a prime\n",
    "    return True"
   ]
  },
  {
   "cell_type": "code",
   "execution_count": 14,
   "metadata": {},
   "outputs": [],
   "source": [
    "def prime():\n",
    "    for i in range(10**10):\n",
    "        if is_prime(i):\n",
    "            yield i\n"
   ]
  },
  {
   "cell_type": "code",
   "execution_count": 15,
   "metadata": {},
   "outputs": [],
   "source": [
    "next_prime = prime()"
   ]
  },
  {
   "cell_type": "code",
   "execution_count": null,
   "metadata": {},
   "outputs": [
    {
     "name": "stdout",
     "output_type": "stream",
     "text": [
      "Do you want to see the next prime number? (Y / N) a\n",
      "Oops!\n"
     ]
    }
   ],
   "source": [
    "while True:\n",
    "    #1. Ask the user enter a number if they want to continue\n",
    "    choice = input('Do you want to see the next prime number? (Y / N) ')\n",
    "    choice = choice.lower()\n",
    "    no = ['n', 'no']\n",
    "    yes = ['y', 'yes']\n",
    "    \n",
    "    #Terminate the loop if user enters n or no\n",
    "    if choice in no:\n",
    "        break\n",
    "        \n",
    "    elif choice in yes:\n",
    "        print(next(next_prime))\n",
    "        \n",
    "    else:\n",
    "        print ('Oops!')\n",
    "        continue\n",
    "    "
   ]
  },
  {
   "cell_type": "markdown",
   "metadata": {},
   "source": [
    "'''\n",
    "#program flow: \n",
    "\n",
    "- create a generator next_prime()\n",
    "    - iterate through the integers upto (10**30)\n",
    "        -test for prime\n",
    "            -if prime > yield\n",
    "            -else > continue\n",
    "-While Loop:\n",
    "    -define yes or no options\n",
    "    -ask for use input\n",
    "    -if yes, print>next>prime\n",
    "    -if no, exit the loop\n",
    "    -anything else, return to the beginning of the loop \n",
    "\n",
    "'''"
   ]
  }
 ],
 "metadata": {
  "kernelspec": {
   "display_name": "Python 3",
   "language": "python",
   "name": "python3"
  },
  "language_info": {
   "codemirror_mode": {
    "name": "ipython",
    "version": 3
   },
   "file_extension": ".py",
   "mimetype": "text/x-python",
   "name": "python",
   "nbconvert_exporter": "python",
   "pygments_lexer": "ipython3",
   "version": "3.7.4"
  }
 },
 "nbformat": 4,
 "nbformat_minor": 2
}
