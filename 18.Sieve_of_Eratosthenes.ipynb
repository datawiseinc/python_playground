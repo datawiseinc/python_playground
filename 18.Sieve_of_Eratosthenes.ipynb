{
 "nbformat": 4,
 "nbformat_minor": 2,
 "metadata": {
  "language_info": {
   "name": "python",
   "codemirror_mode": {
    "name": "ipython",
    "version": 3
   },
   "version": "3.7.4-final"
  },
  "orig_nbformat": 2,
  "file_extension": ".py",
  "mimetype": "text/x-python",
  "name": "python",
  "npconvert_exporter": "python",
  "pygments_lexer": "ipython3",
  "version": 3,
  "kernelspec": {
   "name": "python37464bitbasecondaf7b42bf6d0454650b41abaaea1d18348",
   "display_name": "Python 3.7.4 64-bit ('base': conda)"
  }
 },
 "cells": [
  {
   "cell_type": "markdown",
   "execution_count": null,
   "metadata": {},
   "outputs": [],
   "source": [
    "Sieve of Eratosthenes - The sieve of Eratosthenes is one of the most efficient ways to find all of the smaller primes (below 10 million or so)."
   ]
  },
  {
   "cell_type": "code",
   "execution_count": 1,
   "metadata": {},
   "outputs": [],
   "source": [
    "def primes_erotosthenes(number):\n",
    "    '''Sieve of Eratosthenes: find the primes smaller than a given number'''\n",
    "\n",
    "    num_range = list(range(2,number))  #make a list of all the numbers up to the given number\n",
    "    indx_list = 0   #index counter of the numbers in the list\n",
    "    \n",
    "\n",
    "    while indx_list < len(num_range): #starts with the first item in the range until the end of it\n",
    "\n",
    "        #selecting the first prime to remove its multiples from the list\n",
    "        prime_num = num_range[indx_list]\n",
    "\n",
    "        #set the first multiple to the prime itself\n",
    "        multiple = prime_num\n",
    "\n",
    "        while (prime_num * multiple) < number:  #check if the multipel of a prime is in the list\n",
    "            \n",
    "            try:\n",
    "                #finding the multiples of each prime\n",
    "                prime_num_times_multiple = prime_num * multiple\n",
    "\n",
    "                #remove the multiple of the primes from the list if it is in num_range\n",
    "                num_range.remove(prime_num_times_multiple)\n",
    "                #print('removing ', prime_num_times_multiple, 'new num_range is:', num_range)\n",
    "                #print('\\n')\n",
    "            \n",
    "            except:\n",
    "                pass  #nothing to report\n",
    "\n",
    "            finally: \n",
    "                multiple += 1   #increment the multiple to pass it in the beginning of the loop          \n",
    "            \n",
    "        \n",
    "        indx_list += 1    #increment the index to move to the next prime in the list\n",
    "\n",
    "    print('primes in num_range are: ', num_range)"
   ]
  },
  {
   "cell_type": "code",
   "execution_count": 2,
   "metadata": {},
   "outputs": [
    {
     "name": "stdout",
     "output_type": "stream",
     "text": "primes in num_range are:  [2, 3, 5, 7, 11, 13, 17, 19, 23, 29, 31, 37, 41, 43, 47, 53, 59]\n"
    }
   ],
   "source": [
    "primes_erotosthenes(60)"
   ]
  },
  {
   "cell_type": "code",
   "execution_count": null,
   "metadata": {},
   "outputs": [],
   "source": []
  }
 ]
}