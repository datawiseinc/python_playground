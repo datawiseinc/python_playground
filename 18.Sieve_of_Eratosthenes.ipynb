{
 "nbformat": 4,
 "nbformat_minor": 2,
 "metadata": {
  "language_info": {
   "name": "python",
   "codemirror_mode": {
    "name": "ipython",
    "version": 3
   },
   "version": "3.8.1-final"
  },
  "orig_nbformat": 2,
  "file_extension": ".py",
  "mimetype": "text/x-python",
  "name": "python",
  "npconvert_exporter": "python",
  "pygments_lexer": "ipython3",
  "version": 3,
  "kernelspec": {
   "name": "python38164bit48a316d8be3d4d7792fc4712996f25b0",
   "display_name": "Python 3.8.1 64-bit"
  }
 },
 "cells": [
  {
   "cell_type": "markdown",
   "execution_count": null,
   "metadata": {},
   "outputs": [],
   "source": [
    "Sieve of Eratosthenes - The sieve of Eratosthenes is one of the most efficient ways to find all of the smaller primes (below 10 million or so)."
   ]
  },
  {
   "cell_type": "code",
   "execution_count": 1,
   "metadata": {},
   "outputs": [],
   "source": [
    "def primes_erotosthenes(number):\n",
    "    '''Sieve of Eratosthenes: find the primes smaller than a given number and return them as a list'''\n",
    "\n",
    "    num_range = list(range(2,number))  #make a list of all the numbers up to the given number\n",
    "    indx_list = 0   #index counter of the numbers in the list\n",
    "    \n",
    "\n",
    "    while indx_list < len(num_range): #starts with the first item in the range until the end of it\n",
    "\n",
    "        #selecting the first prime to remove its multiples from the list\n",
    "        prime_num = num_range[indx_list]\n",
    "\n",
    "        #set the first multiple to the prime itself\n",
    "        multiple = prime_num\n",
    "\n",
    "        while (prime_num * multiple) < number:  #check if the multipel of a prime is in the list\n",
    "            \n",
    "            try:\n",
    "                #finding the multiples of each prime\n",
    "                prime_num_times_multiple = prime_num * multiple\n",
    "\n",
    "                #remove the multiple of the primes from the list if it is in num_range\n",
    "                num_range.remove(prime_num_times_multiple)\n",
    "                #print('removing ', prime_num_times_multiple, 'new num_range is:', num_range)\n",
    "                #print('\\n')\n",
    "            \n",
    "            except:\n",
    "                pass  #nothing to report\n",
    "\n",
    "            finally: \n",
    "                multiple += 1   #increment the multiple to pass it in the beginning of the loop          \n",
    "            \n",
    "        \n",
    "        indx_list += 1    #increment the index to move to the next prime in the list\n",
    "\n",
    "    return num_range"
   ]
  },
  {
   "cell_type": "code",
   "execution_count": 2,
   "metadata": {},
   "outputs": [
    {
     "name": "stdout",
     "output_type": "stream",
     "text": "[2, 3, 5, 7, 11, 13, 17, 19, 23, 29, 31, 37, 41, 43, 47, 53, 59, 61, 67, 71, 73, 79, 83, 89, 97]\n"
    }
   ],
   "source": [
    "print(primes_erotosthenes(100))"
   ]
  },
  {
   "cell_type": "code",
   "execution_count": null,
   "metadata": {},
   "outputs": [],
   "source": []
  }
 ]
}